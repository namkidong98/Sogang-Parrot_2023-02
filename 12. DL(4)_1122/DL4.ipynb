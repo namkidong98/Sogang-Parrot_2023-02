{
  "nbformat": 4,
  "nbformat_minor": 0,
  "metadata": {
    "colab": {
      "provenance": [],
      "gpuType": "T4"
    },
    "kernelspec": {
      "name": "python3",
      "display_name": "Python 3"
    },
    "language_info": {
      "name": "python"
    },
    "accelerator": "GPU",
    "gpuClass": "standard"
  },
  "cells": [
    {
      "cell_type": "code",
      "execution_count": 1,
      "metadata": {
        "id": "Nq9CfpsrOw-p"
      },
      "outputs": [],
      "source": [
        "import torch\n",
        "import torchvision\n",
        "import torchvision.transforms as transforms"
      ]
    },
    {
      "cell_type": "code",
      "source": [
        "transform = transforms.Compose(\n",
        "    [transforms.ToTensor(),\n",
        "     transforms.Normalize((0.5, 0.5, 0.5), (0.5, 0.5, 0.5))])"
      ],
      "metadata": {
        "id": "Tpp62FwuO_Ky"
      },
      "execution_count": 2,
      "outputs": []
    },
    {
      "cell_type": "code",
      "source": [
        "trainset = torchvision.datasets.CIFAR10(root='./data', train=True,\n",
        "                                        download=True, transform=transform)\n",
        "train_loader = torch.utils.data.DataLoader(trainset, batch_size=####Fill###,\n",
        "                                          shuffle=True, num_workers=2)"
      ],
      "metadata": {
        "colab": {
          "base_uri": "https://localhost:8080/"
        },
        "id": "ufL9LsH5PONx",
        "outputId": "5660de45-13ed-4dab-f85b-6a82f5570d5b"
      },
      "execution_count": 3,
      "outputs": [
        {
          "output_type": "stream",
          "name": "stdout",
          "text": [
            "Downloading https://www.cs.toronto.edu/~kriz/cifar-10-python.tar.gz to ./data/cifar-10-python.tar.gz\n"
          ]
        },
        {
          "output_type": "stream",
          "name": "stderr",
          "text": [
            "100%|██████████| 170498071/170498071 [00:12<00:00, 13738305.97it/s]\n"
          ]
        },
        {
          "output_type": "stream",
          "name": "stdout",
          "text": [
            "Extracting ./data/cifar-10-python.tar.gz to ./data\n"
          ]
        }
      ]
    },
    {
      "cell_type": "code",
      "source": [
        "valset = torchvision.datasets.CIFAR10(root='./data', train=False,\n",
        "                                       download=True, transform=transform)\n",
        "val_loader = torch.utils.data.DataLoader(valset, batch_size=####Fill###,\n",
        "                                         shuffle=False, num_workers=2)"
      ],
      "metadata": {
        "colab": {
          "base_uri": "https://localhost:8080/"
        },
        "id": "hPtiUcS0POxu",
        "outputId": "44d8bc1b-7986-4590-fee1-f291634fa1cb"
      },
      "execution_count": 4,
      "outputs": [
        {
          "output_type": "stream",
          "name": "stdout",
          "text": [
            "Files already downloaded and verified\n"
          ]
        }
      ]
    },
    {
      "cell_type": "code",
      "source": [
        "import matplotlib.pyplot as plt\n",
        "import numpy as np"
      ],
      "metadata": {
        "id": "VS0sAEjUPQMi"
      },
      "execution_count": 5,
      "outputs": []
    },
    {
      "cell_type": "code",
      "source": [
        "def imshow(img):\n",
        "    img = img / 2 + 0.5     # unnormalize\n",
        "    npimg = img.numpy()\n",
        "    plt.imshow(np.transpose(npimg, (1, 2, 0)))\n",
        "    plt.show()"
      ],
      "metadata": {
        "id": "Dpaw8eawPfca"
      },
      "execution_count": 6,
      "outputs": []
    },
    {
      "cell_type": "code",
      "source": [
        "dataiter = iter(train_loader)\n",
        "images, labels = next(dataiter)\n",
        "\n",
        "imshow(torchvision.utils.make_grid(images))\n",
        "print(' '.join('%5s' % labels[j] for j in range(4)))\n",
        "#classes = 'plane', 'car', 'bird', 'cat', 'deer', 'dog', 'frog', 'horse', 'ship', 'truck'"
      ],
      "metadata": {
        "colab": {
          "base_uri": "https://localhost:8080/",
          "height": 211
        },
        "id": "ssbjCdNiPqr6",
        "outputId": "6b166993-702f-4cca-f257-297ba0661946"
      },
      "execution_count": 7,
      "outputs": [
        {
          "output_type": "display_data",
          "data": {
            "text/plain": [
              "<Figure size 640x480 with 1 Axes>"
            ],
            "image/png": "[encoded data removed]"
          },
          "metadata": {}
        },
        {
          "output_type": "stream",
          "name": "stdout",
          "text": [
            "tensor(7) tensor(1) tensor(3) tensor(9)\n"
          ]
        }
      ]
    },
    {
      "cell_type": "code",
      "source": [
        "import torch.nn as nn\n",
        "import torch.nn.functional as F"
      ],
      "metadata": {
        "id": "0tMHmrrhPyJU"
      },
      "execution_count": 8,
      "outputs": []
    },
    {
      "cell_type": "code",
      "source": [
        "class Mymodel(nn.Module):\n",
        "    def __init__(self):\n",
        "        super().__init__()\n",
        "        #make network\n",
        "\n",
        "    def forward(self, x):\n",
        "        #class 10, return must be shape (B, 10)\n",
        "        return x\n"
      ],
      "metadata": {
        "id": "ePAtPJglQmDP"
      },
      "execution_count": 46,
      "outputs": []
    },
    {
      "cell_type": "code",
      "source": [
        "model = Mymodel()\n",
        "\n",
        "device = torch.device(\"cuda:0\" if torch.cuda.is_available() else \"cpu\")\n",
        "model.to(device)"
      ],
      "metadata": {
        "colab": {
          "base_uri": "https://localhost:8080/"
        },
        "id": "F36kurcQRveM",
        "outputId": "a6672531-6ae3-48f6-fe98-90b96d619f85"
      },
      "execution_count": 47,
      "outputs": [
        {
          "output_type": "execute_result",
          "data": {
            "text/plain": [
              "Mymodel(\n",
              "  (fc1): Linear(in_features=3072, out_features=2048, bias=True)\n",
              "  (fc2): Linear(in_features=2048, out_features=1024, bias=True)\n",
              "  (fc3): Linear(in_features=1024, out_features=512, bias=True)\n",
              "  (fc4): Linear(in_features=512, out_features=256, bias=True)\n",
              "  (fc5): Linear(in_features=256, out_features=10, bias=True)\n",
              ")"
            ]
          },
          "metadata": {},
          "execution_count": 47
        }
      ]
    },
    {
      "cell_type": "code",
      "source": [
        "import torch.optim as optim"
      ],
      "metadata": {
        "id": "lWu_fPh0SalQ"
      },
      "execution_count": 48,
      "outputs": []
    },
    {
      "cell_type": "code",
      "source": [
        "EPOCH = ####Fill###\n",
        "lr = ####Fill###\n",
        "criterion = nn.CrossEntropyLoss()\n",
        "optimizer = ####Fill###\n",
        "scheduler = ####Fill###"
      ],
      "metadata": {
        "id": "Dzh1ECr1R6MV"
      },
      "execution_count": 49,
      "outputs": []
    },
    {
      "cell_type": "code",
      "source": [
        "train_loss_history = []\n",
        "val_loss_history = []\n",
        "for epoch in range(EPOCH):\n",
        "    train_loss = 0\n",
        "    val_loss = 0\n",
        "    total = 0\n",
        "    correct = 0\n",
        "    for i, data in enumerate(train_loader):\n",
        "        x, y = data\n",
        "        x = x.reshape(-1, 32*32*3) # flatten\n",
        "        x = x.to(device)\n",
        "        y = y.to(device)\n",
        "\n",
        "        optimizer.zero_grad() #gradient 초기화\n",
        "\n",
        "        y_pred = model(x)\n",
        "\n",
        "        loss = criterion(y_pred, y)\n",
        "\n",
        "        loss.backward() #backpropagation\n",
        "        optimizer.step() #update\n",
        "\n",
        "        train_loss += loss.item()\n",
        "    scheduler.step() #scheduler 사용 안 하면 주석 처리\n",
        "    train_loss/=len(train_loader)\n",
        "    train_loss_history.append(train_loss)\n",
        "\n",
        "    with torch.no_grad(): # val set 학습을 꺼둠\n",
        "        for i, data in enumerate(val_loader):\n",
        "            x, y = data\n",
        "            x = x.reshape(-1, 32*32*3) # flatten\n",
        "            x = x.to(device)\n",
        "            y = y.to(device)\n",
        "\n",
        "            output = model(x)\n",
        "            loss = criterion(output, y)\n",
        "\n",
        "            val_loss += loss.item()\n",
        "\n",
        "\n",
        "            _, pred = torch.max(output.data, 1)\n",
        "            total += y.size(0)\n",
        "            correct += (pred == y).sum().item()\n",
        "    val_loss /= len(val_loader)\n",
        "    val_loss_history.append(val_loss)\n",
        "    val_acc = 100 * correct / total\n",
        "\n",
        "    print(f\"epoch {epoch + 1} train loss {train_loss:.3f} val loss {val_loss:.3f}\")\n",
        "    print(f\"val acc {val_acc:.3f}%\\n\\n\")\n",
        ""
      ],
      "metadata": {
        "colab": {
          "base_uri": "https://localhost:8080/"
        },
        "id": "1SlpK39QS-N_",
        "outputId": "b5f9b624-bd26-416e-99e9-e811323fe158"
      },
      "execution_count": 50,
      "outputs": [
        {
          "output_type": "stream",
          "name": "stdout",
          "text": [
            "epoch 0 train loss 1.880 val loss 1.736\n",
            "val acc 37.630\n",
            "epoch 1 train loss 1.707 val loss 1.646\n",
            "val acc 41.370\n",
            "epoch 2 train loss 1.562 val loss 1.556\n",
            "val acc 44.890\n",
            "epoch 3 train loss 1.420 val loss 1.455\n",
            "val acc 48.970\n",
            "epoch 4 train loss 1.288 val loss 1.402\n",
            "val acc 50.960\n",
            "epoch 5 train loss 1.216 val loss 1.395\n",
            "val acc 51.160\n",
            "epoch 6 train loss 1.226 val loss 1.398\n",
            "val acc 50.900\n",
            "epoch 7 train loss 1.290 val loss 1.427\n",
            "val acc 51.100\n",
            "epoch 8 train loss 1.362 val loss 1.453\n",
            "val acc 49.110\n",
            "epoch 9 train loss 1.414 val loss 1.523\n",
            "val acc 46.570\n"
          ]
        }
      ]
    },
    {
      "cell_type": "code",
      "source": [
        "plt.plot(np.arange(EPOCH), train_loss_history, label='train_loss')\n",
        "plt.plot(np.arange(EPOCH), val_loss_history, label='val_loss')\n",
        "plt.legend()\n",
        "plt.show()"
      ],
      "metadata": {
        "colab": {
          "base_uri": "https://localhost:8080/",
          "height": 430
        },
        "id": "sGVAcea_YZg4",
        "outputId": "c865c6f3-e15b-4a6d-e6a3-3d8e72419b4b"
      },
      "execution_count": 52,
      "outputs": [
        {
          "output_type": "display_data",
          "data": {
            "text/plain": [
              "<Figure size 640x480 with 1 Axes>"
            ],
            "image/png": "[encoded data removed]"
          },
          "metadata": {}
        }
      ]
    }
  ]
}