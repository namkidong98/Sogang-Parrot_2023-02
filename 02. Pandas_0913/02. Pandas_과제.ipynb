{
 "cells": [
  {
   "cell_type": "markdown",
   "id": "a7387eb4",
   "metadata": {},
   "source": [
    "# 1\n",
    "Numpy.random를 이용하여 0과 12 사이의 정수 60개를 생성하여 Series로 정리하고, 각 정수의 빈도수를 계산하는 code를 작성하시오."
   ]
  },
  {
   "cell_type": "code",
   "execution_count": 185,
   "id": "3cc06675",
   "metadata": {},
   "outputs": [
    {
     "data": {
      "text/plain": [
       "1     8\n",
       "11    7\n",
       "3     7\n",
       "8     6\n",
       "9     6\n",
       "6     5\n",
       "4     5\n",
       "7     5\n",
       "2     4\n",
       "12    3\n",
       "5     3\n",
       "0     1\n",
       "Name: count, dtype: int64"
      ]
     },
     "execution_count": 185,
     "metadata": {},
     "output_type": "execute_result"
    }
   ],
   "source": [
    "import numpy as np\n",
    "import pandas as pd\n",
    "\n",
    "x = pd.Series(np.random.randint(0, 13, 60))\n",
    "x.value_counts()"
   ]
  },
  {
   "cell_type": "markdown",
   "id": "be6069bd",
   "metadata": {},
   "source": [
    "# 2\n",
    "42를 seed로 하여 표준정규분포를 따르는 20개의 무작위 수를 numpy random 함수로 생성하고, agg를 사용하여 표본수, 평균, 표준편차, 극소, 극대값을 다음과 같은 Series로 정리하시오."
   ]
  },
  {
   "cell_type": "code",
   "execution_count": 186,
   "id": "2b6bf09b",
   "metadata": {},
   "outputs": [
    {
     "data": {
      "text/html": [
       "<div>\n",
       "<style scoped>\n",
       "    .dataframe tbody tr th:only-of-type {\n",
       "        vertical-align: middle;\n",
       "    }\n",
       "\n",
       "    .dataframe tbody tr th {\n",
       "        vertical-align: top;\n",
       "    }\n",
       "\n",
       "    .dataframe thead th {\n",
       "        text-align: right;\n",
       "    }\n",
       "</style>\n",
       "<table border=\"1\" class=\"dataframe\">\n",
       "  <thead>\n",
       "    <tr style=\"text-align: right;\">\n",
       "      <th></th>\n",
       "      <th>0</th>\n",
       "    </tr>\n",
       "  </thead>\n",
       "  <tbody>\n",
       "    <tr>\n",
       "      <th>count</th>\n",
       "      <td>20.000000</td>\n",
       "    </tr>\n",
       "    <tr>\n",
       "      <th>mean</th>\n",
       "      <td>-0.171299</td>\n",
       "    </tr>\n",
       "    <tr>\n",
       "      <th>std</th>\n",
       "      <td>0.960028</td>\n",
       "    </tr>\n",
       "    <tr>\n",
       "      <th>min</th>\n",
       "      <td>-1.913280</td>\n",
       "    </tr>\n",
       "    <tr>\n",
       "      <th>max</th>\n",
       "      <td>1.579213</td>\n",
       "    </tr>\n",
       "  </tbody>\n",
       "</table>\n",
       "</div>"
      ],
      "text/plain": [
       "               0\n",
       "count  20.000000\n",
       "mean   -0.171299\n",
       "std     0.960028\n",
       "min    -1.913280\n",
       "max     1.579213"
      ]
     },
     "execution_count": 186,
     "metadata": {},
     "output_type": "execute_result"
    }
   ],
   "source": [
    "np.random.seed(42)\n",
    "df = pd.DataFrame(np.random.randn(20))\n",
    "df.agg(['count', 'mean', 'std', 'min', 'max'])"
   ]
  },
  {
   "cell_type": "markdown",
   "id": "eba1562b",
   "metadata": {},
   "source": [
    "# 3\n",
    "다음과 같은 series를 생성하고 index의 순서를 (C, B, D, E, A)로 바꾸어라.\n",
    "\n",
    "A 1<br>\n",
    "B 2<br>\n",
    "C 3<br>\n",
    "D 4<br>\n",
    "E 5"
   ]
  },
  {
   "cell_type": "code",
   "execution_count": 187,
   "id": "016a3da8",
   "metadata": {},
   "outputs": [
    {
     "data": {
      "text/plain": [
       "C    3\n",
       "B    2\n",
       "D    4\n",
       "E    5\n",
       "A    1\n",
       "dtype: int64"
      ]
     },
     "execution_count": 187,
     "metadata": {},
     "output_type": "execute_result"
    }
   ],
   "source": [
    "x = pd.Series({'A':1, 'B':2, 'C':3, 'D':4, 'E':5})\n",
    "x = x.reindex(['C', 'B', 'D', 'E', 'A'])\n",
    "x"
   ]
  },
  {
   "cell_type": "markdown",
   "id": "f2a9ff59",
   "metadata": {},
   "source": [
    "# 4\n",
    "url = \"https://raw.githubusercontent.com/k5yi/econ2005/master/datasets/WeightHeight.csv\"<br>\n",
    "data= pd.read_csv(url, encoding='cp949')<br>\n",
    "\n",
    "\n",
    "<br>1.분석 전에 describe와 info method를 이용하여 자료유형이나 missing을 포함한 기술통계값을 확인한다.<br>\n",
    "2.지나치게 크거나 작은 값이 있는지 확인한다. (max, min, quantile)<br>\n",
    "3.missing value를 확인한다.<br>\n",
    "4.argmax나 sort를 이용해 자료에서 키가 가장 큰 관찰값을 확인한다.<br>\n",
    "5.체중의 도수분포표를 만든다. 몸무게는 오름차순으로 정리한다.<br>"
   ]
  },
  {
   "cell_type": "code",
   "execution_count": 188,
   "id": "7e22f550",
   "metadata": {},
   "outputs": [],
   "source": [
    "url = \"https://raw.githubusercontent.com/k5yi/econ2005/master/datasets/WeightHeight.csv\"\n",
    "data= pd.read_csv(url, encoding='cp949')"
   ]
  },
  {
   "cell_type": "code",
   "execution_count": 189,
   "id": "4d61fe17",
   "metadata": {},
   "outputs": [
    {
     "data": {
      "text/html": [
       "<div>\n",
       "<style scoped>\n",
       "    .dataframe tbody tr th:only-of-type {\n",
       "        vertical-align: middle;\n",
       "    }\n",
       "\n",
       "    .dataframe tbody tr th {\n",
       "        vertical-align: top;\n",
       "    }\n",
       "\n",
       "    .dataframe thead th {\n",
       "        text-align: right;\n",
       "    }\n",
       "</style>\n",
       "<table border=\"1\" class=\"dataframe\">\n",
       "  <thead>\n",
       "    <tr style=\"text-align: right;\">\n",
       "      <th></th>\n",
       "      <th>gender</th>\n",
       "      <th>birthday</th>\n",
       "      <th>height</th>\n",
       "      <th>weight</th>\n",
       "    </tr>\n",
       "  </thead>\n",
       "  <tbody>\n",
       "    <tr>\n",
       "      <th>0</th>\n",
       "      <td>m</td>\n",
       "      <td>1983년 9월</td>\n",
       "      <td>177.0</td>\n",
       "      <td>71.0</td>\n",
       "    </tr>\n",
       "    <tr>\n",
       "      <th>1</th>\n",
       "      <td>m</td>\n",
       "      <td>1981년 9월</td>\n",
       "      <td>180.0</td>\n",
       "      <td>73.0</td>\n",
       "    </tr>\n",
       "    <tr>\n",
       "      <th>2</th>\n",
       "      <td>m</td>\n",
       "      <td>1980년 9월</td>\n",
       "      <td>180.0</td>\n",
       "      <td>102.0</td>\n",
       "    </tr>\n",
       "    <tr>\n",
       "      <th>3</th>\n",
       "      <td>m</td>\n",
       "      <td>1985년 3월</td>\n",
       "      <td>172.0</td>\n",
       "      <td>66.0</td>\n",
       "    </tr>\n",
       "    <tr>\n",
       "      <th>4</th>\n",
       "      <td>m</td>\n",
       "      <td>1983년 5월</td>\n",
       "      <td>186.0</td>\n",
       "      <td>79.0</td>\n",
       "    </tr>\n",
       "  </tbody>\n",
       "</table>\n",
       "</div>"
      ],
      "text/plain": [
       "  gender  birthday  height  weight\n",
       "0      m  1983년 9월   177.0    71.0\n",
       "1      m  1981년 9월   180.0    73.0\n",
       "2      m  1980년 9월   180.0   102.0\n",
       "3      m  1985년 3월   172.0    66.0\n",
       "4      m  1983년 5월   186.0    79.0"
      ]
     },
     "execution_count": 189,
     "metadata": {},
     "output_type": "execute_result"
    }
   ],
   "source": [
    "data.head()"
   ]
  },
  {
   "cell_type": "code",
   "execution_count": 190,
   "id": "9688b123",
   "metadata": {},
   "outputs": [
    {
     "name": "stdout",
     "output_type": "stream",
     "text": [
      "<class 'pandas.core.frame.DataFrame'>\n",
      "RangeIndex: 120 entries, 0 to 119\n",
      "Data columns (total 4 columns):\n",
      " #   Column    Non-Null Count  Dtype  \n",
      "---  ------    --------------  -----  \n",
      " 0   gender    120 non-null    object \n",
      " 1   birthday  111 non-null    object \n",
      " 2   height    117 non-null    float64\n",
      " 3   weight    115 non-null    float64\n",
      "dtypes: float64(2), object(2)\n",
      "memory usage: 3.9+ KB\n"
     ]
    }
   ],
   "source": [
    "data.info() # 4개의 column과 120개의 행으로 이루어진 데이터이며, birthday, height, weight에 각각 9, 3, 5개의 null-value가 있다\n",
    "            # gender는 문자, birthday는 문자열 데이터이고 height와 weight는 float형이다"
   ]
  },
  {
   "cell_type": "code",
   "execution_count": 191,
   "id": "2c3dc765",
   "metadata": {},
   "outputs": [
    {
     "data": {
      "text/html": [
       "<div>\n",
       "<style scoped>\n",
       "    .dataframe tbody tr th:only-of-type {\n",
       "        vertical-align: middle;\n",
       "    }\n",
       "\n",
       "    .dataframe tbody tr th {\n",
       "        vertical-align: top;\n",
       "    }\n",
       "\n",
       "    .dataframe thead th {\n",
       "        text-align: right;\n",
       "    }\n",
       "</style>\n",
       "<table border=\"1\" class=\"dataframe\">\n",
       "  <thead>\n",
       "    <tr style=\"text-align: right;\">\n",
       "      <th></th>\n",
       "      <th>height</th>\n",
       "      <th>weight</th>\n",
       "    </tr>\n",
       "  </thead>\n",
       "  <tbody>\n",
       "    <tr>\n",
       "      <th>count</th>\n",
       "      <td>117.000000</td>\n",
       "      <td>115.000000</td>\n",
       "    </tr>\n",
       "    <tr>\n",
       "      <th>mean</th>\n",
       "      <td>171.598291</td>\n",
       "      <td>63.908696</td>\n",
       "    </tr>\n",
       "    <tr>\n",
       "      <th>std</th>\n",
       "      <td>7.593168</td>\n",
       "      <td>12.272238</td>\n",
       "    </tr>\n",
       "    <tr>\n",
       "      <th>min</th>\n",
       "      <td>155.000000</td>\n",
       "      <td>42.000000</td>\n",
       "    </tr>\n",
       "    <tr>\n",
       "      <th>25%</th>\n",
       "      <td>165.000000</td>\n",
       "      <td>52.000000</td>\n",
       "    </tr>\n",
       "    <tr>\n",
       "      <th>50%</th>\n",
       "      <td>172.000000</td>\n",
       "      <td>64.000000</td>\n",
       "    </tr>\n",
       "    <tr>\n",
       "      <th>75%</th>\n",
       "      <td>177.000000</td>\n",
       "      <td>71.000000</td>\n",
       "    </tr>\n",
       "    <tr>\n",
       "      <th>max</th>\n",
       "      <td>186.000000</td>\n",
       "      <td>102.000000</td>\n",
       "    </tr>\n",
       "  </tbody>\n",
       "</table>\n",
       "</div>"
      ],
      "text/plain": [
       "           height      weight\n",
       "count  117.000000  115.000000\n",
       "mean   171.598291   63.908696\n",
       "std      7.593168   12.272238\n",
       "min    155.000000   42.000000\n",
       "25%    165.000000   52.000000\n",
       "50%    172.000000   64.000000\n",
       "75%    177.000000   71.000000\n",
       "max    186.000000  102.000000"
      ]
     },
     "execution_count": 191,
     "metadata": {},
     "output_type": "execute_result"
    }
   ],
   "source": [
    "data.describe() # 키의 최댓값은 186, 최솟값이 155인 것은 평균을 고려해보았을 때, 직관적으로도 문제가 없다\n",
    "                # 몸무게의 경우에도 최소가 42, 최대가 102, 평균이 63인 것은 직관적으로 문제가 없어 보인다\n",
    "                # 25, 50, 75 분위수에 따라 나타나는 값도 상식적이다"
   ]
  },
  {
   "cell_type": "code",
   "execution_count": 192,
   "id": "e621cabd",
   "metadata": {},
   "outputs": [
    {
     "data": {
      "text/plain": [
       "gender      0\n",
       "birthday    9\n",
       "height      3\n",
       "weight      5\n",
       "dtype: int64"
      ]
     },
     "execution_count": 192,
     "metadata": {},
     "output_type": "execute_result"
    }
   ],
   "source": [
    "data.isna().sum() # info에서 추론한 것과 동일한 결측치가 있음을 확인할 수 있다"
   ]
  },
  {
   "cell_type": "code",
   "execution_count": 193,
   "id": "049b55e1",
   "metadata": {},
   "outputs": [
    {
     "data": {
      "text/html": [
       "<div>\n",
       "<style scoped>\n",
       "    .dataframe tbody tr th:only-of-type {\n",
       "        vertical-align: middle;\n",
       "    }\n",
       "\n",
       "    .dataframe tbody tr th {\n",
       "        vertical-align: top;\n",
       "    }\n",
       "\n",
       "    .dataframe thead th {\n",
       "        text-align: right;\n",
       "    }\n",
       "</style>\n",
       "<table border=\"1\" class=\"dataframe\">\n",
       "  <thead>\n",
       "    <tr style=\"text-align: right;\">\n",
       "      <th></th>\n",
       "      <th>gender</th>\n",
       "      <th>birthday</th>\n",
       "      <th>height</th>\n",
       "      <th>weight</th>\n",
       "    </tr>\n",
       "  </thead>\n",
       "  <tbody>\n",
       "    <tr>\n",
       "      <th>35</th>\n",
       "      <td>m</td>\n",
       "      <td>1985년 11월</td>\n",
       "      <td>170.0</td>\n",
       "      <td>NaN</td>\n",
       "    </tr>\n",
       "    <tr>\n",
       "      <th>36</th>\n",
       "      <td>m</td>\n",
       "      <td>1985년 8월</td>\n",
       "      <td>NaN</td>\n",
       "      <td>NaN</td>\n",
       "    </tr>\n",
       "    <tr>\n",
       "      <th>44</th>\n",
       "      <td>m</td>\n",
       "      <td>1986년 11월</td>\n",
       "      <td>NaN</td>\n",
       "      <td>NaN</td>\n",
       "    </tr>\n",
       "    <tr>\n",
       "      <th>52</th>\n",
       "      <td>f</td>\n",
       "      <td>NaN</td>\n",
       "      <td>NaN</td>\n",
       "      <td>NaN</td>\n",
       "    </tr>\n",
       "    <tr>\n",
       "      <th>53</th>\n",
       "      <td>m</td>\n",
       "      <td>NaN</td>\n",
       "      <td>177.0</td>\n",
       "      <td>62.0</td>\n",
       "    </tr>\n",
       "    <tr>\n",
       "      <th>56</th>\n",
       "      <td>f</td>\n",
       "      <td>1984년 7월</td>\n",
       "      <td>170.0</td>\n",
       "      <td>NaN</td>\n",
       "    </tr>\n",
       "    <tr>\n",
       "      <th>72</th>\n",
       "      <td>m</td>\n",
       "      <td>NaN</td>\n",
       "      <td>176.0</td>\n",
       "      <td>74.0</td>\n",
       "    </tr>\n",
       "    <tr>\n",
       "      <th>73</th>\n",
       "      <td>m</td>\n",
       "      <td>NaN</td>\n",
       "      <td>178.0</td>\n",
       "      <td>68.0</td>\n",
       "    </tr>\n",
       "    <tr>\n",
       "      <th>87</th>\n",
       "      <td>m</td>\n",
       "      <td>NaN</td>\n",
       "      <td>178.0</td>\n",
       "      <td>71.0</td>\n",
       "    </tr>\n",
       "    <tr>\n",
       "      <th>102</th>\n",
       "      <td>f</td>\n",
       "      <td>NaN</td>\n",
       "      <td>170.0</td>\n",
       "      <td>60.0</td>\n",
       "    </tr>\n",
       "    <tr>\n",
       "      <th>106</th>\n",
       "      <td>m</td>\n",
       "      <td>NaN</td>\n",
       "      <td>175.0</td>\n",
       "      <td>64.0</td>\n",
       "    </tr>\n",
       "    <tr>\n",
       "      <th>108</th>\n",
       "      <td>m</td>\n",
       "      <td>NaN</td>\n",
       "      <td>174.0</td>\n",
       "      <td>92.0</td>\n",
       "    </tr>\n",
       "    <tr>\n",
       "      <th>117</th>\n",
       "      <td>f</td>\n",
       "      <td>NaN</td>\n",
       "      <td>156.0</td>\n",
       "      <td>42.0</td>\n",
       "    </tr>\n",
       "  </tbody>\n",
       "</table>\n",
       "</div>"
      ],
      "text/plain": [
       "    gender   birthday  height  weight\n",
       "35       m  1985년 11월   170.0     NaN\n",
       "36       m   1985년 8월     NaN     NaN\n",
       "44       m  1986년 11월     NaN     NaN\n",
       "52       f        NaN     NaN     NaN\n",
       "53       m        NaN   177.0    62.0\n",
       "56       f   1984년 7월   170.0     NaN\n",
       "72       m        NaN   176.0    74.0\n",
       "73       m        NaN   178.0    68.0\n",
       "87       m        NaN   178.0    71.0\n",
       "102      f        NaN   170.0    60.0\n",
       "106      m        NaN   175.0    64.0\n",
       "108      m        NaN   174.0    92.0\n",
       "117      f        NaN   156.0    42.0"
      ]
     },
     "execution_count": 193,
     "metadata": {},
     "output_type": "execute_result"
    }
   ],
   "source": [
    "data[data['birthday'].isna() | data['height'].isna() | data['weight'].isna()] # missing value를 확인해본다"
   ]
  },
  {
   "cell_type": "code",
   "execution_count": 194,
   "id": "91fdc4d7",
   "metadata": {},
   "outputs": [
    {
     "data": {
      "text/plain": [
       "gender      0\n",
       "birthday    0\n",
       "height      0\n",
       "weight      0\n",
       "dtype: int64"
      ]
     },
     "execution_count": 194,
     "metadata": {},
     "output_type": "execute_result"
    }
   ],
   "source": [
    "data.dropna(inplace=True) # 결측치를 포함한 행을 제거한다\n",
    "data.isna().sum() # 모든 결측치가 제거된 것을 확인할 수 있다"
   ]
  },
  {
   "cell_type": "code",
   "execution_count": 195,
   "id": "cdeef213",
   "metadata": {},
   "outputs": [
    {
     "data": {
      "text/plain": [
       "gender             m\n",
       "birthday    1983년 5월\n",
       "height         186.0\n",
       "weight          79.0\n",
       "Name: 4, dtype: object"
      ]
     },
     "execution_count": 195,
     "metadata": {},
     "output_type": "execute_result"
    }
   ],
   "source": [
    "data.iloc[data['height'].argmax()] # argmax를 통해 키가 가장 큰 사람의 인덱스를 입력받아 iloc을 활용하여 해당 행을 출력한다"
   ]
  },
  {
   "cell_type": "code",
   "execution_count": 199,
   "id": "055d0f9a",
   "metadata": {},
   "outputs": [
    {
     "data": {
      "text/html": [
       "<div>\n",
       "<style scoped>\n",
       "    .dataframe tbody tr th:only-of-type {\n",
       "        vertical-align: middle;\n",
       "    }\n",
       "\n",
       "    .dataframe tbody tr th {\n",
       "        vertical-align: top;\n",
       "    }\n",
       "\n",
       "    .dataframe thead th {\n",
       "        text-align: right;\n",
       "    }\n",
       "</style>\n",
       "<table border=\"1\" class=\"dataframe\">\n",
       "  <thead>\n",
       "    <tr style=\"text-align: right;\">\n",
       "      <th></th>\n",
       "      <th>gender</th>\n",
       "      <th>birthday</th>\n",
       "      <th>height</th>\n",
       "      <th>weight</th>\n",
       "    </tr>\n",
       "  </thead>\n",
       "  <tbody>\n",
       "    <tr>\n",
       "      <th>88</th>\n",
       "      <td>f</td>\n",
       "      <td>20-Nov</td>\n",
       "      <td>165.0</td>\n",
       "      <td>43.0</td>\n",
       "    </tr>\n",
       "    <tr>\n",
       "      <th>119</th>\n",
       "      <td>f</td>\n",
       "      <td>17-Jul</td>\n",
       "      <td>166.0</td>\n",
       "      <td>45.0</td>\n",
       "    </tr>\n",
       "    <tr>\n",
       "      <th>103</th>\n",
       "      <td>m</td>\n",
       "      <td>14-Aug</td>\n",
       "      <td>164.0</td>\n",
       "      <td>46.0</td>\n",
       "    </tr>\n",
       "    <tr>\n",
       "      <th>105</th>\n",
       "      <td>f</td>\n",
       "      <td>27-Feb</td>\n",
       "      <td>163.0</td>\n",
       "      <td>47.0</td>\n",
       "    </tr>\n",
       "    <tr>\n",
       "      <th>21</th>\n",
       "      <td>f</td>\n",
       "      <td>1983년 6월</td>\n",
       "      <td>160.0</td>\n",
       "      <td>47.0</td>\n",
       "    </tr>\n",
       "    <tr>\n",
       "      <th>...</th>\n",
       "      <td>...</td>\n",
       "      <td>...</td>\n",
       "      <td>...</td>\n",
       "      <td>...</td>\n",
       "    </tr>\n",
       "    <tr>\n",
       "      <th>13</th>\n",
       "      <td>m</td>\n",
       "      <td>1986년 12월</td>\n",
       "      <td>183.0</td>\n",
       "      <td>85.0</td>\n",
       "    </tr>\n",
       "    <tr>\n",
       "      <th>76</th>\n",
       "      <td>m</td>\n",
       "      <td>22-Dec</td>\n",
       "      <td>178.0</td>\n",
       "      <td>85.0</td>\n",
       "    </tr>\n",
       "    <tr>\n",
       "      <th>84</th>\n",
       "      <td>m</td>\n",
       "      <td>23-Oct</td>\n",
       "      <td>173.0</td>\n",
       "      <td>92.0</td>\n",
       "    </tr>\n",
       "    <tr>\n",
       "      <th>19</th>\n",
       "      <td>m</td>\n",
       "      <td>1987년 2월</td>\n",
       "      <td>182.0</td>\n",
       "      <td>96.0</td>\n",
       "    </tr>\n",
       "    <tr>\n",
       "      <th>2</th>\n",
       "      <td>m</td>\n",
       "      <td>1980년 9월</td>\n",
       "      <td>180.0</td>\n",
       "      <td>102.0</td>\n",
       "    </tr>\n",
       "  </tbody>\n",
       "</table>\n",
       "<p>107 rows × 4 columns</p>\n",
       "</div>"
      ],
      "text/plain": [
       "    gender   birthday  height  weight\n",
       "88       f     20-Nov   165.0    43.0\n",
       "119      f     17-Jul   166.0    45.0\n",
       "103      m     14-Aug   164.0    46.0\n",
       "105      f     27-Feb   163.0    47.0\n",
       "21       f   1983년 6월   160.0    47.0\n",
       "..     ...        ...     ...     ...\n",
       "13       m  1986년 12월   183.0    85.0\n",
       "76       m     22-Dec   178.0    85.0\n",
       "84       m     23-Oct   173.0    92.0\n",
       "19       m   1987년 2월   182.0    96.0\n",
       "2        m   1980년 9월   180.0   102.0\n",
       "\n",
       "[107 rows x 4 columns]"
      ]
     },
     "execution_count": 199,
     "metadata": {},
     "output_type": "execute_result"
    }
   ],
   "source": [
    "# 체중을 기준으로 오름차순 정렬한다\n",
    "data.sort_values('weight', inplace=True)\n",
    "data"
   ]
  },
  {
   "cell_type": "code",
   "execution_count": 202,
   "id": "c5e15a1d",
   "metadata": {},
   "outputs": [
    {
     "data": {
      "text/plain": [
       "weight\n",
       "(42, 52]     29\n",
       "(52, 64]     26\n",
       "(64, 71]     27\n",
       "(71, 102]    25\n",
       "Name: count, dtype: int64"
      ]
     },
     "execution_count": 202,
     "metadata": {},
     "output_type": "execute_result"
    }
   ],
   "source": [
    "pd.cut(data['weight'], bins = [42, 52, 64, 71, 102]).value_counts().sort_index() # min, 25%, 50%, 75%, max로 구간을 나누어 도수분포표를 만든다"
   ]
  },
  {
   "cell_type": "markdown",
   "id": "4924033e",
   "metadata": {},
   "source": [
    "# 5\n",
    "다음의 dict으로 주어진 작업을 수행하는 code를 작성하시오.<br>\n",
    "{'X':[78,85,96,80,86], 'Y':[84,94,89,83,86]}<br><br>\n",
    "1.DataFrame을 생성하는 code를 작성하시오.<br>\n",
    "\n",
    "2.Index를 ('서', '강', '대', '학', '교')로 바꾸고,<br>\n",
    "3.Y에서 X의 값을 빼서 새로운 column 'Z'를 생성한 후, Column의 이름을 (\"2019\", \"2020\", \"증가량\")으로 바꾸시오.<br>\n",
    "4.각 column의 평균을 계산하시오.<br>\n",
    "5.Column '2019'의 값이 80에서 89사이인 row를 모두 (74, 90, 16)으로 대체하시오.<br>"
   ]
  },
  {
   "cell_type": "code",
   "execution_count": 54,
   "id": "7b816d84",
   "metadata": {},
   "outputs": [
    {
     "data": {
      "text/plain": [
       "2019    425\n",
       "2020    436\n",
       "증가량      11\n",
       "dtype: int64"
      ]
     },
     "execution_count": 54,
     "metadata": {},
     "output_type": "execute_result"
    }
   ],
   "source": [
    "df = pd.DataFrame({'X':[78,85,96,80,86], 'Y':[84,94,89,83,86]}, index=['서', '강', '대', '학', '교'])\n",
    "df['Z'] = df['Y'] - df['X']\n",
    "df.columns = ['2019', '2020', '증가량']\n",
    "df.apply(sum)"
   ]
  },
  {
   "cell_type": "code",
   "execution_count": 57,
   "id": "0e6889e6",
   "metadata": {},
   "outputs": [
    {
     "data": {
      "text/html": [
       "<div>\n",
       "<style scoped>\n",
       "    .dataframe tbody tr th:only-of-type {\n",
       "        vertical-align: middle;\n",
       "    }\n",
       "\n",
       "    .dataframe tbody tr th {\n",
       "        vertical-align: top;\n",
       "    }\n",
       "\n",
       "    .dataframe thead th {\n",
       "        text-align: right;\n",
       "    }\n",
       "</style>\n",
       "<table border=\"1\" class=\"dataframe\">\n",
       "  <thead>\n",
       "    <tr style=\"text-align: right;\">\n",
       "      <th></th>\n",
       "      <th>2019</th>\n",
       "      <th>2020</th>\n",
       "      <th>증가량</th>\n",
       "    </tr>\n",
       "  </thead>\n",
       "  <tbody>\n",
       "    <tr>\n",
       "      <th>서</th>\n",
       "      <td>78</td>\n",
       "      <td>84</td>\n",
       "      <td>6</td>\n",
       "    </tr>\n",
       "    <tr>\n",
       "      <th>강</th>\n",
       "      <td>74</td>\n",
       "      <td>90</td>\n",
       "      <td>16</td>\n",
       "    </tr>\n",
       "    <tr>\n",
       "      <th>대</th>\n",
       "      <td>96</td>\n",
       "      <td>89</td>\n",
       "      <td>-7</td>\n",
       "    </tr>\n",
       "    <tr>\n",
       "      <th>학</th>\n",
       "      <td>74</td>\n",
       "      <td>90</td>\n",
       "      <td>16</td>\n",
       "    </tr>\n",
       "    <tr>\n",
       "      <th>교</th>\n",
       "      <td>74</td>\n",
       "      <td>90</td>\n",
       "      <td>16</td>\n",
       "    </tr>\n",
       "  </tbody>\n",
       "</table>\n",
       "</div>"
      ],
      "text/plain": [
       "   2019  2020  증가량\n",
       "서    78    84    6\n",
       "강    74    90   16\n",
       "대    96    89   -7\n",
       "학    74    90   16\n",
       "교    74    90   16"
      ]
     },
     "execution_count": 57,
     "metadata": {},
     "output_type": "execute_result"
    }
   ],
   "source": [
    "df[(df['2019'] <= 89) & (df['2019'] >= 80)] = [74, 90, 16]\n",
    "df"
   ]
  }
 ],
 "metadata": {
  "kernelspec": {
   "display_name": "Python 3 (ipykernel)",
   "language": "python",
   "name": "python3"
  },
  "language_info": {
   "codemirror_mode": {
    "name": "ipython",
    "version": 3
   },
   "file_extension": ".py",
   "mimetype": "text/x-python",
   "name": "python",
   "nbconvert_exporter": "python",
   "pygments_lexer": "ipython3",
   "version": "3.10.11"
  }
 },
 "nbformat": 4,
 "nbformat_minor": 5
}
