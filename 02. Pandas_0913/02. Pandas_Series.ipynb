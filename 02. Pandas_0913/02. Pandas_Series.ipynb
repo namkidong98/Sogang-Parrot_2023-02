{
 "cells": [
  {
   "cell_type": "code",
   "execution_count": 84,
   "id": "c305cc90",
   "metadata": {},
   "outputs": [],
   "source": [
    "import numpy as np \n",
    "import pandas as pd "
   ]
  },
  {
   "cell_type": "markdown",
   "id": "0e2420cd",
   "metadata": {},
   "source": [
    "## Pandas\n",
    "\n",
    "Pandas는 크게 2개로 나뉜다  \n",
    "1. Series\n",
    "- 1차원 데이터\n",
    "- indexing 요소가 추가된 list 혹은 dict와 유사\n",
    "- DataFrame 내에서 하나의 column이 됨\n",
    "\n",
    "2. DataFrame\n",
    "- 2차원 표의 형태"
   ]
  },
  {
   "cell_type": "markdown",
   "id": "5075895c",
   "metadata": {},
   "source": [
    "# Series"
   ]
  },
  {
   "cell_type": "markdown",
   "id": "41a34f94",
   "metadata": {},
   "source": [
    "- 첫 번째 열: index(0부터 정수형으로 자동 설정)\n",
    "- 두 번째 열: 실제 데이터를 저장 "
   ]
  },
  {
   "cell_type": "code",
   "execution_count": 85,
   "id": "c1c0dadc",
   "metadata": {},
   "outputs": [
    {
     "data": {
      "text/plain": [
       "0    11\n",
       "1    28\n",
       "2    82\n",
       "3     3\n",
       "4     6\n",
       "5     8\n",
       "dtype: int64"
      ]
     },
     "execution_count": 85,
     "metadata": {},
     "output_type": "execute_result"
    }
   ],
   "source": [
    "S = pd.Series([11, 28, 82, 3, 6, 8]) #list 형태로 전달\n",
    "S"
   ]
  },
  {
   "cell_type": "code",
   "execution_count": 86,
   "id": "632ab0c9",
   "metadata": {},
   "outputs": [
    {
     "name": "stdout",
     "output_type": "stream",
     "text": [
      "<class 'pandas.core.series.Series'>\n",
      "6\n"
     ]
    }
   ],
   "source": [
    "print(type(S))\n",
    "print(len(S))"
   ]
  },
  {
   "cell_type": "code",
   "execution_count": 87,
   "id": "47dcecd5",
   "metadata": {},
   "outputs": [
    {
     "name": "stdout",
     "output_type": "stream",
     "text": [
      "Korea    Seoul\n",
      "Japan    Tokyo\n",
      "dtype: object \n",
      "\n",
      "Index(['Korea', 'Japan'], dtype='object') <class 'pandas.core.indexes.base.Index'> \n",
      "\n",
      "['Seoul' 'Tokyo'] <class 'numpy.ndarray'>\n"
     ]
    }
   ],
   "source": [
    "capital=pd.Series({'Korea':'Seoul','Japan':'Tokyo'})\n",
    "print(capital, '\\n')\n",
    "print(capital.index, type(capital.index),'\\n')  # index\n",
    "print(capital.values, type(capital.values))     # value로 구분되고 value는 ndarray 형태를 취하고 있다"
   ]
  },
  {
   "cell_type": "code",
   "execution_count": 88,
   "id": "eefc19f8",
   "metadata": {},
   "outputs": [
    {
     "data": {
      "text/plain": [
       "0    a\n",
       "1    b\n",
       "2    c\n",
       "dtype: object"
      ]
     },
     "execution_count": 88,
     "metadata": {},
     "output_type": "execute_result"
    }
   ],
   "source": [
    "pd.Series(list('abc'))   # list"
   ]
  },
  {
   "cell_type": "code",
   "execution_count": 89,
   "id": "fa5e54b7",
   "metadata": {},
   "outputs": [
    {
     "data": {
      "text/plain": [
       "0    1\n",
       "1    2\n",
       "2    3\n",
       "3    4\n",
       "4    5\n",
       "dtype: int64"
      ]
     },
     "execution_count": 89,
     "metadata": {},
     "output_type": "execute_result"
    }
   ],
   "source": [
    "pd.Series((1,2,3,4,5))   # tuple"
   ]
  },
  {
   "cell_type": "code",
   "execution_count": 90,
   "id": "5f43763e",
   "metadata": {},
   "outputs": [
    {
     "data": {
      "text/plain": [
       "a    2\n",
       "b    4\n",
       "dtype: int64"
      ]
     },
     "execution_count": 90,
     "metadata": {},
     "output_type": "execute_result"
    }
   ],
   "source": [
    "pd.Series({'a':2, 'b':4})  # dict : key-->series의 index, value-->series의 values"
   ]
  },
  {
   "cell_type": "code",
   "execution_count": 91,
   "id": "3bd2f8b1",
   "metadata": {},
   "outputs": [
    {
     "data": {
      "text/plain": [
       "0    1.0\n",
       "1    2.0\n",
       "2    1.0\n",
       "dtype: float64"
      ]
     },
     "execution_count": 91,
     "metadata": {},
     "output_type": "execute_result"
    }
   ],
   "source": [
    "pd.Series(np.array([1,2.,1]))   # ndarray"
   ]
  },
  {
   "cell_type": "code",
   "execution_count": 92,
   "id": "18c92d16",
   "metadata": {},
   "outputs": [
    {
     "data": {
      "text/plain": [
       "0    4\n",
       "1    1\n",
       "2    1\n",
       "3    3\n",
       "4    3\n",
       "5    7\n",
       "6    2\n",
       "7    4\n",
       "8    4\n",
       "9    7\n",
       "dtype: int32"
      ]
     },
     "execution_count": 92,
     "metadata": {},
     "output_type": "execute_result"
    }
   ],
   "source": [
    "pd.Series(np.random.randint(1,8,10)) #ndarray"
   ]
  },
  {
   "cell_type": "code",
   "execution_count": 93,
   "id": "70faad4b",
   "metadata": {},
   "outputs": [
    {
     "ename": "ValueError",
     "evalue": "Data must be 1-dimensional, got ndarray of shape (2, 2) instead",
     "output_type": "error",
     "traceback": [
      "\u001b[1;31m---------------------------------------------------------------------------\u001b[0m",
      "\u001b[1;31mValueError\u001b[0m                                Traceback (most recent call last)",
      "\u001b[1;32mc:\\Users\\rlehd\\OneDrive - Sogang\\바탕 화면\\Activities\\대외활동\\서강대 Parrot 9기\\02. Pandas_0913\\02. Pandas.ipynb Cell 13\u001b[0m line \u001b[0;36m1\n\u001b[1;32m----> <a href='vscode-notebook-cell:/c%3A/Users/rlehd/OneDrive%20-%20Sogang/%EB%B0%94%ED%83%95%20%ED%99%94%EB%A9%B4/Activities/%EB%8C%80%EC%99%B8%ED%99%9C%EB%8F%99/%EC%84%9C%EA%B0%95%EB%8C%80%20Parrot%209%EA%B8%B0/02.%20Pandas_0913/02.%20Pandas.ipynb#X15sZmlsZQ%3D%3D?line=0'>1</a>\u001b[0m pd\u001b[39m.\u001b[39;49mSeries(np\u001b[39m.\u001b[39;49marange(\u001b[39m4\u001b[39;49m)\u001b[39m.\u001b[39;49mreshape(\u001b[39m2\u001b[39;49m,\u001b[39m2\u001b[39;49m))  \u001b[39m# 2차원 이상 불가 -> Error\u001b[39;00m\n",
      "File \u001b[1;32m~\\AppData\\Local\\Packages\\PythonSoftwareFoundation.Python.3.10_qbz5n2kfra8p0\\LocalCache\\local-packages\\Python310\\site-packages\\pandas\\core\\series.py:509\u001b[0m, in \u001b[0;36mSeries.__init__\u001b[1;34m(self, data, index, dtype, name, copy, fastpath)\u001b[0m\n\u001b[0;32m    507\u001b[0m         data \u001b[39m=\u001b[39m data\u001b[39m.\u001b[39mcopy()\n\u001b[0;32m    508\u001b[0m \u001b[39melse\u001b[39;00m:\n\u001b[1;32m--> 509\u001b[0m     data \u001b[39m=\u001b[39m sanitize_array(data, index, dtype, copy)\n\u001b[0;32m    511\u001b[0m     manager \u001b[39m=\u001b[39m get_option(\u001b[39m\"\u001b[39m\u001b[39mmode.data_manager\u001b[39m\u001b[39m\"\u001b[39m)\n\u001b[0;32m    512\u001b[0m     \u001b[39mif\u001b[39;00m manager \u001b[39m==\u001b[39m \u001b[39m\"\u001b[39m\u001b[39mblock\u001b[39m\u001b[39m\"\u001b[39m:\n",
      "File \u001b[1;32m~\\AppData\\Local\\Packages\\PythonSoftwareFoundation.Python.3.10_qbz5n2kfra8p0\\LocalCache\\local-packages\\Python310\\site-packages\\pandas\\core\\construction.py:607\u001b[0m, in \u001b[0;36msanitize_array\u001b[1;34m(data, index, dtype, copy, allow_2d)\u001b[0m\n\u001b[0;32m    604\u001b[0m             subarr \u001b[39m=\u001b[39m cast(np\u001b[39m.\u001b[39mndarray, subarr)\n\u001b[0;32m    605\u001b[0m             subarr \u001b[39m=\u001b[39m maybe_infer_to_datetimelike(subarr)\n\u001b[1;32m--> 607\u001b[0m subarr \u001b[39m=\u001b[39m _sanitize_ndim(subarr, data, dtype, index, allow_2d\u001b[39m=\u001b[39;49mallow_2d)\n\u001b[0;32m    609\u001b[0m \u001b[39mif\u001b[39;00m \u001b[39misinstance\u001b[39m(subarr, np\u001b[39m.\u001b[39mndarray):\n\u001b[0;32m    610\u001b[0m     \u001b[39m# at this point we should have dtype be None or subarr.dtype == dtype\u001b[39;00m\n\u001b[0;32m    611\u001b[0m     dtype \u001b[39m=\u001b[39m cast(np\u001b[39m.\u001b[39mdtype, dtype)\n",
      "File \u001b[1;32m~\\AppData\\Local\\Packages\\PythonSoftwareFoundation.Python.3.10_qbz5n2kfra8p0\\LocalCache\\local-packages\\Python310\\site-packages\\pandas\\core\\construction.py:666\u001b[0m, in \u001b[0;36m_sanitize_ndim\u001b[1;34m(result, data, dtype, index, allow_2d)\u001b[0m\n\u001b[0;32m    664\u001b[0m     \u001b[39mif\u001b[39;00m allow_2d:\n\u001b[0;32m    665\u001b[0m         \u001b[39mreturn\u001b[39;00m result\n\u001b[1;32m--> 666\u001b[0m     \u001b[39mraise\u001b[39;00m \u001b[39mValueError\u001b[39;00m(\n\u001b[0;32m    667\u001b[0m         \u001b[39mf\u001b[39m\u001b[39m\"\u001b[39m\u001b[39mData must be 1-dimensional, got ndarray of shape \u001b[39m\u001b[39m{\u001b[39;00mdata\u001b[39m.\u001b[39mshape\u001b[39m}\u001b[39;00m\u001b[39m instead\u001b[39m\u001b[39m\"\u001b[39m\n\u001b[0;32m    668\u001b[0m     )\n\u001b[0;32m    669\u001b[0m \u001b[39mif\u001b[39;00m is_object_dtype(dtype) \u001b[39mand\u001b[39;00m \u001b[39misinstance\u001b[39m(dtype, ExtensionDtype):\n\u001b[0;32m    670\u001b[0m     \u001b[39m# i.e. PandasDtype(\"O\")\u001b[39;00m\n\u001b[0;32m    672\u001b[0m     result \u001b[39m=\u001b[39m com\u001b[39m.\u001b[39masarray_tuplesafe(data, dtype\u001b[39m=\u001b[39mnp\u001b[39m.\u001b[39mdtype(\u001b[39m\"\u001b[39m\u001b[39mobject\u001b[39m\u001b[39m\"\u001b[39m))\n",
      "\u001b[1;31mValueError\u001b[0m: Data must be 1-dimensional, got ndarray of shape (2, 2) instead"
     ]
    }
   ],
   "source": [
    "pd.Series(np.arange(4).reshape(2,2))  # 2차원 이상 불가 -> Error"
   ]
  },
  {
   "cell_type": "code",
   "execution_count": null,
   "id": "433a1e99",
   "metadata": {},
   "outputs": [
    {
     "data": {
      "text/plain": [
       "1st    11\n",
       "2nd    28\n",
       "3rd    82\n",
       "4th     3\n",
       "5th     6\n",
       "6th     8\n",
       "dtype: int64"
      ]
     },
     "execution_count": 18,
     "metadata": {},
     "output_type": "execute_result"
    }
   ],
   "source": [
    "# index와 value\n",
    "# pd.Series(data, index, dtype, name)이기 때문에 data, index를 명시하지 않으면 첫 번째 인자가 data, 두 번째 인자가 index로 인식된다\n",
    "Z=pd.Series([11,28,82,3,6,8],\n",
    "            ['1st','2nd','3rd','4th','5th','6th'])\n",
    "Z"
   ]
  },
  {
   "cell_type": "markdown",
   "id": "4b343ae9",
   "metadata": {},
   "source": [
    "## pd.Series의 attributes 과 method"
   ]
  },
  {
   "cell_type": "code",
   "execution_count": 95,
   "id": "8a989b90",
   "metadata": {},
   "outputs": [
    {
     "name": "stdout",
     "output_type": "stream",
     "text": [
      "random num \n",
      "\n",
      "RangeIndex(start=0, stop=10, step=1) \n",
      "\n",
      "[7 4 5 7 3 5 5 7 2 3] \n",
      "\n"
     ]
    },
    {
     "data": {
      "text/plain": [
       "<PandasArray>\n",
       "[7, 4, 5, 7, 3, 5, 5, 7, 2, 3]\n",
       "Length: 10, dtype: int32"
      ]
     },
     "execution_count": 95,
     "metadata": {},
     "output_type": "execute_result"
    }
   ],
   "source": [
    "np.random.seed(42)\n",
    "x=pd.Series(np.random.randint(1,8,10), name=\"random num\")\n",
    "print(x.name, '\\n')     #series 생성할 때의 이름, 지정 안 해주면 없다\n",
    "print(x.index, '\\n')    # index, 따로 없으면 RangeIndex로 표시됨\n",
    "print(x.values, '\\n')   # values\n",
    "x.array"
   ]
  },
  {
   "cell_type": "markdown",
   "id": "6727b12e",
   "metadata": {},
   "source": [
    "## value 추가 삭제"
   ]
  },
  {
   "cell_type": "code",
   "execution_count": 96,
   "id": "85f45241",
   "metadata": {},
   "outputs": [
    {
     "name": "stdout",
     "output_type": "stream",
     "text": [
      "0    7\n",
      "1    4\n",
      "2    5\n",
      "3    7\n",
      "4    3\n",
      "5    5\n",
      "6    5\n",
      "7    7\n",
      "8    2\n",
      "9    3\n",
      "Name: random num, dtype: int32\n"
     ]
    },
    {
     "data": {
      "text/plain": [
       "0      7\n",
       "1      4\n",
       "2      5\n",
       "3      7\n",
       "4      3\n",
       "5      5\n",
       "6      5\n",
       "7      7\n",
       "8      2\n",
       "9      3\n",
       "10     8\n",
       "11    92\n",
       "dtype: int64"
      ]
     },
     "execution_count": 96,
     "metadata": {},
     "output_type": "execute_result"
    }
   ],
   "source": [
    "# value 추가\n",
    "\n",
    "print(x)\n",
    "# x = x.append(pd.Series({10:8})) --> 최근에 Pandas에서 Series의 append가 삭제되었다\n",
    "x = pd.concat([x, pd.Series({10:8})])   # 대체로 concat을 이용하여 값을 추가할 수 있다\n",
    "x[11]=92                                # pd[index] = new_value 꼴로도 추가 가능하다\n",
    "x"
   ]
  },
  {
   "cell_type": "code",
   "execution_count": 97,
   "id": "7d3f01f0",
   "metadata": {},
   "outputs": [
    {
     "data": {
      "text/plain": [
       "0    7\n",
       "1    4\n",
       "2    5\n",
       "3    7\n",
       "4    3\n",
       "5    5\n",
       "6    5\n",
       "7    7\n",
       "8    2\n",
       "9    3\n",
       "dtype: int64"
      ]
     },
     "execution_count": 97,
     "metadata": {},
     "output_type": "execute_result"
    }
   ],
   "source": [
    "# value 제거\n",
    "\n",
    "del x[10]       # del은 자동적으로 반영, 없는 index가 입력되면 KeyError가 발생\n",
    "x=x.drop([11])  # drop은 반환값을 재할당해야함, inplace 추가로도 가능\n",
    "x"
   ]
  },
  {
   "cell_type": "markdown",
   "id": "0c3ed06c",
   "metadata": {},
   "source": [
    "## pd.Series의 method"
   ]
  },
  {
   "cell_type": "code",
   "execution_count": 98,
   "id": "75ff6fc0",
   "metadata": {},
   "outputs": [
    {
     "data": {
      "text/plain": [
       "7    3\n",
       "5    3\n",
       "3    2\n",
       "4    1\n",
       "2    1\n",
       "Name: count, dtype: int64"
      ]
     },
     "execution_count": 98,
     "metadata": {},
     "output_type": "execute_result"
    }
   ],
   "source": [
    "x.value_counts() #각각의 value가 몇개 있는지 [value값 : 개수] Series로 반환"
   ]
  },
  {
   "cell_type": "code",
   "execution_count": 99,
   "id": "13ab331b",
   "metadata": {},
   "outputs": [
    {
     "name": "stdout",
     "output_type": "stream",
     "text": [
      "2    1\n",
      "3    2\n",
      "4    1\n",
      "5    3\n",
      "7    3\n",
      "Name: count, dtype: int64 \n",
      "\n",
      "4    1\n",
      "2    1\n",
      "3    2\n",
      "7    3\n",
      "5    3\n",
      "Name: count, dtype: int64 \n",
      "\n",
      "7    3\n",
      "5    3\n",
      "3    2\n",
      "4    1\n",
      "2    1\n",
      "Name: count, dtype: int64\n"
     ]
    }
   ],
   "source": [
    "print(x.value_counts().sort_index(), '\\n')  # index 기준 오름차순 정렬\n",
    "print(x.value_counts().sort_values(), '\\n') # values기준 오름차순 정렬\n",
    "print(x.value_counts().sort_values(ascending=False)) # 내림차순"
   ]
  },
  {
   "cell_type": "code",
   "execution_count": 100,
   "id": "6b5120dc",
   "metadata": {},
   "outputs": [
    {
     "name": "stdout",
     "output_type": "stream",
     "text": [
      "[7 4 5 3 2] \n",
      "\n",
      "Index([7, 5, 3, 4, 2], dtype='int64') \n",
      "\n",
      "5\n"
     ]
    }
   ],
   "source": [
    "print(x.unique(), '\\n')             # 고유한 값의 종류 \n",
    "print(x.value_counts().index, '\\n') # 값의 종류만 추출하므로 비슷한 기능을 수행\n",
    "                            \n",
    "print(x.nunique())                  # 고유한 값의 수(number of unique)"
   ]
  },
  {
   "cell_type": "markdown",
   "id": "1a85e07a",
   "metadata": {},
   "source": [
    "### Series 기술 통계량 "
   ]
  },
  {
   "cell_type": "code",
   "execution_count": 101,
   "id": "dc96b2cf",
   "metadata": {},
   "outputs": [
    {
     "name": "stdout",
     "output_type": "stream",
     "text": [
      "min: 2\n",
      "max: 7\n",
      "mean: 4.8\n",
      "std: 1.8135294011647258\n",
      "var: 3.288888888888889\n"
     ]
    }
   ],
   "source": [
    "print('min:', x.min())\n",
    "print('max:', x.max())\n",
    "print('mean:', x.mean())\n",
    "print('std:', x.std())\n",
    "print('var:', x.var())"
   ]
  },
  {
   "cell_type": "code",
   "execution_count": 102,
   "id": "ca895de3",
   "metadata": {},
   "outputs": [
    {
     "data": {
      "text/plain": [
       "count    10.000000\n",
       "mean      4.800000\n",
       "std       1.813529\n",
       "min       2.000000\n",
       "25%       3.250000\n",
       "50%       5.000000\n",
       "75%       6.500000\n",
       "max       7.000000\n",
       "dtype: float64"
      ]
     },
     "execution_count": 102,
     "metadata": {},
     "output_type": "execute_result"
    }
   ],
   "source": [
    "x.describe()"
   ]
  },
  {
   "cell_type": "markdown",
   "id": "825ff3a0",
   "metadata": {},
   "source": [
    "### Series indexing, slicing\n",
    "\n",
    "- indexing : 해당하는 index를 갖고 있는 value를 선택\n",
    "\n",
    "- slicing : index의 값이 중요한게 아니라 몇 번째 위치한 값인가를 기준으로 start, stop(미포함)으로 부분을 추출"
   ]
  },
  {
   "cell_type": "code",
   "execution_count": 103,
   "id": "32cd5312",
   "metadata": {},
   "outputs": [
    {
     "name": "stdout",
     "output_type": "stream",
     "text": [
      "0    7\n",
      "1    4\n",
      "2    5\n",
      "3    7\n",
      "4    3\n",
      "5    5\n",
      "6    5\n",
      "7    7\n",
      "8    2\n",
      "9    3\n",
      "dtype: int64 \n",
      "\n",
      "4\n",
      "7\n",
      "0    7\n",
      "1    4\n",
      "dtype: int64\n"
     ]
    }
   ],
   "source": [
    "print(x, '\\n')\n",
    "print(x[1])     # index 1에 해당하는 value 4가 출력\n",
    "print(x[0])     # index 0에 해당하는 value 7이 출력\n",
    "print(x[0:2])   # index 0번째부터 1번째까지(2불포함)의 value 출력"
   ]
  },
  {
   "cell_type": "code",
   "execution_count": 104,
   "id": "3762ce0f",
   "metadata": {},
   "outputs": [
    {
     "name": "stdout",
     "output_type": "stream",
     "text": [
      "0      7\n",
      "1      4\n",
      "2      5\n",
      "3      7\n",
      "4      3\n",
      "5      5\n",
      "6      5\n",
      "7      7\n",
      "8      2\n",
      "100    3\n",
      "57     5\n",
      "dtype: int64\n",
      "3    7\n",
      "4    3\n",
      "5    5\n",
      "6    5\n",
      "7    7\n",
      "dtype: int64\n"
     ]
    }
   ],
   "source": [
    "del x[9]\n",
    "x[100] = 3\n",
    "x[57] = 5\n",
    "print(x)\n",
    "print(x[3:8]) # index값이 일치하는게 아니라 3번째부터 7번째가지 출력 --> 총 5개 출력"
   ]
  },
  {
   "cell_type": "code",
   "execution_count": 109,
   "id": "e6c4b12e",
   "metadata": {},
   "outputs": [
    {
     "name": "stdout",
     "output_type": "stream",
     "text": [
      "2nd    28\n",
      "4th     3\n",
      "dtype: int64\n",
      "2nd    28\n",
      "5th     6\n",
      "dtype: int64\n"
     ]
    }
   ],
   "source": [
    "Z=pd.Series([11,28,82,3,6,8],\n",
    "            ['1st','2nd','3rd','4th','5th','6th'])\n",
    "Z\n",
    "print(Z.iloc[[1,3]])           #행 번호를 이용한 인덱싱\n",
    "print(Z.loc[['2nd','5th']])    #행 이름을 이용한 인덱싱"
   ]
  },
  {
   "cell_type": "markdown",
   "id": "8bc92f7c",
   "metadata": {},
   "source": [
    "## 결측치 Nan"
   ]
  },
  {
   "cell_type": "code",
   "execution_count": 110,
   "id": "1886769e",
   "metadata": {},
   "outputs": [
    {
     "name": "stdout",
     "output_type": "stream",
     "text": [
      "0    0\n",
      "1    1\n",
      "2    2\n",
      "3    3\n",
      "4    4\n",
      "dtype: int32\n",
      "0    10\n",
      "1    11\n",
      "2    12\n",
      "3    13\n",
      "4    14\n",
      "dtype: int32\n"
     ]
    },
    {
     "data": {
      "text/plain": [
       "0    10\n",
       "1    12\n",
       "2    14\n",
       "3    16\n",
       "4    18\n",
       "dtype: int32"
      ]
     },
     "execution_count": 110,
     "metadata": {},
     "output_type": "execute_result"
    }
   ],
   "source": [
    "a=pd.Series(np.arange(5))\n",
    "b=pd.Series(np.arange(10,15))\n",
    "\n",
    "print(a)\n",
    "print(b)\n",
    "a+b #index 기준으로 연산"
   ]
  },
  {
   "cell_type": "code",
   "execution_count": 118,
   "id": "cf4b9635",
   "metadata": {
    "scrolled": true
   },
   "outputs": [
    {
     "name": "stdout",
     "output_type": "stream",
     "text": [
      "a    1.1\n",
      "b    3.2\n",
      "c    5.3\n",
      "dtype: float64 \n",
      "\n",
      "a    NaN\n",
      "b    NaN\n",
      "c    2.4\n",
      "d    NaN\n",
      "e    NaN\n",
      "dtype: float64\n"
     ]
    }
   ],
   "source": [
    "s1 = pd.Series({'a': 0.1, 'b': 1.2, 'c': 2.3})\n",
    "s2 = pd.Series({'a': 1.0, 'b': 2.0, 'c': 3.0})\n",
    "s3 = pd.Series({'c': 0.1, 'd': 1.2, 'e': 2.3})\n",
    "print(s1+s2,\"\\n\")\n",
    "\n",
    "print(s1+s3)"
   ]
  },
  {
   "cell_type": "code",
   "execution_count": 119,
   "id": "f75d8c79",
   "metadata": {},
   "outputs": [
    {
     "name": "stdout",
     "output_type": "stream",
     "text": [
      "<class 'pandas.core.series.Series'>\n",
      "Index: 5 entries, a to e\n",
      "Series name: None\n",
      "Non-Null Count  Dtype  \n",
      "--------------  -----  \n",
      "1 non-null      float64\n",
      "dtypes: float64(1)\n",
      "memory usage: 80.0+ bytes\n",
      "None \n",
      "\n",
      "a     True\n",
      "b     True\n",
      "c    False\n",
      "d     True\n",
      "e     True\n",
      "dtype: bool \n",
      "\n"
     ]
    }
   ],
   "source": [
    "# 결측치 확인\n",
    "s4=s1+s3\n",
    "print(s4.info(), '\\n')  # 5개의 index인데 1 개의 non-null값\n",
    "print(s4.isna(), '\\n')  # NaN, None 값인 경우 T\n",
    "# pandas는 isnan()은 없다"
   ]
  },
  {
   "cell_type": "code",
   "execution_count": 121,
   "id": "34ab3669",
   "metadata": {},
   "outputs": [
    {
     "name": "stdout",
     "output_type": "stream",
     "text": [
      "a    0.0\n",
      "b    0.0\n",
      "c    2.4\n",
      "d    0.0\n",
      "e    0.0\n",
      "dtype: float64\n",
      "c    2.4\n",
      "dtype: float64\n"
     ]
    }
   ],
   "source": [
    "# 결측치 처리\n",
    "print(s4.fillna(value=0))   # 결측치 0으로 채우기, inplace 조건 추가 가능\n",
    "\n",
    "print(s4.dropna())          # 결측치 drop, inplace 조건 추가 가능"
   ]
  }
 ],
 "metadata": {
  "kernelspec": {
   "display_name": "Python 3 (ipykernel)",
   "language": "python",
   "name": "python3"
  },
  "language_info": {
   "codemirror_mode": {
    "name": "ipython",
    "version": 3
   },
   "file_extension": ".py",
   "mimetype": "text/x-python",
   "name": "python",
   "nbconvert_exporter": "python",
   "pygments_lexer": "ipython3",
   "version": "3.10.11"
  }
 },
 "nbformat": 4,
 "nbformat_minor": 5
}
