{
 "cells": [
  {
   "cell_type": "markdown",
   "metadata": {
    "id": "EZ10QDOhujeQ"
   },
   "source": [
    "## Anaconda\n",
    "- 파이썬 통합 개발환경(IDE)\n",
    "- jupyter notebook 지원\n",
    "- https://www.anaconda.com/products/individual\n",
    "\n",
    "## Jupyter notebook\n",
    "- Windows Powershell (shift+우클릭) / 명령 프롬프트(cmd) / Mac OS X terminal\n",
    " 실행\n",
    "- jupyter notebook 입력\n",
    "- H: 키보드 단축키 설명"
   ]
  },
  {
   "cell_type": "markdown",
   "metadata": {
    "id": "Bbayl_iTuXdj"
   },
   "source": [
    "## 데이터 처리 및 분석을 위한 파이썬 모듈\n",
    "\n",
    "1. Numpy: 다차원 배열 생성 및 연산\n",
    "2. Pandas: Dataframe 생성 및 조작\n",
    "3. Scipy: 과학 및 공학 연산 --> 통계분석\n",
    "4. Matplotlib: 시각화\n"
   ]
  },
  {
   "cell_type": "code",
   "execution_count": 2,
   "metadata": {
    "id": "6LSy770o98I5",
    "outputId": "1dbc947a-d6dc-4538-902f-9ba454d7c360"
   },
   "outputs": [],
   "source": [
    "#  모듈설치\n",
    "\n",
    "### Windows 명령 프롬프트(cmd), Powershell \n",
    "#pip install numpy scipy pandas matplotlib --user\n",
    "### Mac OS 터미널\n",
    "#pip3 install numpy scipy pandas matplotlib\n",
    "### Jupyter notebook\n",
    "#!pip install numpy scipy pandas matplotlib"
   ]
  },
  {
   "cell_type": "markdown",
   "metadata": {
    "id": "7KJh4KwXv0Eh"
   },
   "source": [
    "\n",
    "# Numpy\n",
    "Numerical Python<br/><br/>\n",
    "다차원 배열(multi-dimensional array)을 쉽고 빠르게 처리<br/>\n",
    "숫자로 이루어진 Table형 데이터를 다룰 때 주로 사용<br/>\n",
    "같은 종류의 data type을 원소로 함<br/>\n",
    "\n",
    "https://wikidocs.net/14569\n"
   ]
  },
  {
   "cell_type": "code",
   "execution_count": 3,
   "metadata": {
    "id": "5giXsF_XVIGv"
   },
   "outputs": [],
   "source": [
    "import numpy as np"
   ]
  },
  {
   "cell_type": "code",
   "execution_count": 4,
   "metadata": {
    "colab": {
     "base_uri": "https://localhost:8080/"
    },
    "id": "F7AIumTqVIGv",
    "outputId": "c94f7fca-6556-4796-b939-8cfc20314cd4"
   },
   "outputs": [
    {
     "data": {
      "text/plain": [
       "[4, 5, 6, 7, 8, 9]"
      ]
     },
     "execution_count": 4,
     "metadata": {},
     "output_type": "execute_result"
    }
   ],
   "source": [
    "tmp = [j for j in range(10)]\n",
    "tmp1 = []\n",
    "for i in range(len(tmp)):\n",
    "    if i>3:\n",
    "        tmp1.append(i)\n",
    "tmp1"
   ]
  },
  {
   "cell_type": "code",
   "execution_count": 5,
   "metadata": {
    "colab": {
     "base_uri": "https://localhost:8080/"
    },
    "id": "jvhk00A5VIGw",
    "outputId": "4115f7e5-ebf5-4e1d-8be6-c3509d9cd558"
   },
   "outputs": [
    {
     "data": {
      "text/plain": [
       "[4, 5, 6, 7, 8, 9]"
      ]
     },
     "execution_count": 5,
     "metadata": {},
     "output_type": "execute_result"
    }
   ],
   "source": [
    "xx = np.array(tmp)\n",
    "list(xx[xx>3])"
   ]
  },
  {
   "cell_type": "code",
   "execution_count": 6,
   "metadata": {},
   "outputs": [
    {
     "name": "stdout",
     "output_type": "stream",
     "text": [
      "[0 1 2 3 4 5 6 7 8 9] <class 'numpy.ndarray'>\n",
      "[0, 1, 2, 3, 4, 5, 6, 7, 8, 9] <class 'list'>\n"
     ]
    }
   ],
   "source": [
    "xx = np.array(tmp)\n",
    "print(xx, type(xx))\n",
    "xx = xx.tolist()\n",
    "print(xx, type(xx))"
   ]
  },
  {
   "cell_type": "markdown",
   "metadata": {
    "id": "rLkLfGovB81k"
   },
   "source": [
    "### 차원에 따라 데이터를 부르는 이름\n",
    "- 1차원: vector<br/>\n",
    "- 2차원: matrix<br/>\n",
    "- 3차원: tensor\n"
   ]
  },
  {
   "cell_type": "markdown",
   "metadata": {
    "id": "FDPuzE48wbLQ"
   },
   "source": [
    "# Ndarray (N-dimensional Array) <b/>\n",
    "- numpy를 통해 생성되는 n차원의 배열 객체\n",
    "- 같은 data type만을 담을 수 있음\n",
    "- 배열과 배열 간에 다양항 수학적 연산 가능\n"
   ]
  },
  {
   "cell_type": "markdown",
   "metadata": {
    "id": "83raclyznMct"
   },
   "source": [
    "# List와 Array의 차이점\n",
    "1. 선언 조건\n",
    "- 리스트 : 숫자형, 문자열 등 모든 자료 타입 보존 가능\n",
    "- 넘파이 배열 : 한 가지 자료형만 허용\n",
    "\n",
    "2. 연산\n",
    "- 리스트 : 덧셈 시 항목을 이어붙이는 concatenate 수행, 리스트 간의 다른 연산 허용X\n",
    "- 넘파이 배열 : 덧셈 시 항목 간 덧셈을 수행 , 실수에 대한 사칙연산 과정 수행 가능 \n",
    "\n",
    "3. 메소드\n",
    "- 자료형의 종류가 다르기 지원하는 메소드의 종류가 다름 \n",
    "(EX) 리스트에서는 mean, argmax, round 등 어레이 메소드 지원X\n",
    "\n",
    "4. 연산 속도\n",
    "- 같은 연산을 수행하는 경우 넘파이 배열이 연산 최적화가 더 잘되어 있음"
   ]
  },
  {
   "cell_type": "markdown",
   "metadata": {
    "id": "gVBLKzHpVIGx"
   },
   "source": [
    "## ndarray 생성 함수\n",
    "- numpy.arange:np.arange([start,] stop[, step,], dtype=None)\n",
    "- numpy.linspace: numpy.linspace(start, stop, [num=50, endpoint=True, retstep=False, dtype=None)])\n",
    "- numpy.logspace: log scale"
   ]
  },
  {
   "cell_type": "code",
   "execution_count": 7,
   "metadata": {
    "id": "TMNHW7GuQdd-"
   },
   "outputs": [],
   "source": [
    "#array 함수의 인수에 리스트를 지정하여 배열 형성 \n",
    "# numpy.array(object, [dtype=None, copy=True, order=None, subok=False, ndmin=0])\n",
    "# 추가 키워드 인자 사용 가능"
   ]
  },
  {
   "cell_type": "code",
   "execution_count": 8,
   "metadata": {
    "colab": {
     "base_uri": "https://localhost:8080/"
    },
    "id": "16Fe-kMSF6Jn",
    "outputId": "e9e47ca4-866b-4eee-e2e7-43043da1f426",
    "scrolled": true
   },
   "outputs": [
    {
     "name": "stdout",
     "output_type": "stream",
     "text": [
      "[1, 2, 3, 4, 5] <class 'list'>\n",
      "[1 2 3 4 5] <class 'numpy.ndarray'>\n"
     ]
    }
   ],
   "source": [
    "import numpy as np\n",
    "a = [1,2,3,4,5]\n",
    "print(a, type(a))\n",
    "b= np.array(a)\n",
    "print(b, type(b))"
   ]
  },
  {
   "cell_type": "code",
   "execution_count": 9,
   "metadata": {
    "colab": {
     "base_uri": "https://localhost:8080/"
    },
    "id": "ePHuPUTiVIGy",
    "outputId": "bd249b6b-260e-4cc2-8f62-929dc1a4a410"
   },
   "outputs": [
    {
     "name": "stdout",
     "output_type": "stream",
     "text": [
      "<class 'list'>\n"
     ]
    }
   ],
   "source": [
    "b_list=b.tolist() # tolist()는 numpy의 ndarray를 list로 되돌리는 메소드\n",
    "print(type(b_list))"
   ]
  },
  {
   "cell_type": "code",
   "execution_count": 10,
   "metadata": {
    "colab": {
     "base_uri": "https://localhost:8080/"
    },
    "id": "P8pvDsWEVIGy",
    "outputId": "22e43868-7aa8-4cc9-c6c4-ce93dcb76f9c",
    "scrolled": true
   },
   "outputs": [
    {
     "name": "stdout",
     "output_type": "stream",
     "text": [
      "[[1, 2, 3, 4, 5], [6, 7, 8, 9, 10]] <class 'list'>\n",
      "[[ 1  2  3  4  5]\n",
      " [ 6  7  8  9 10]] <class 'numpy.ndarray'>\n"
     ]
    }
   ],
   "source": [
    "c = [[1,2,3,4,5],[6,7,8,9,10]]\n",
    "print(c, type(c))\n",
    "d = np.array(c)\n",
    "print(d, type(d))"
   ]
  },
  {
   "cell_type": "code",
   "execution_count": 11,
   "metadata": {
    "colab": {
     "base_uri": "https://localhost:8080/"
    },
    "id": "e1tYQGoCVIGy",
    "outputId": "3ac00d24-3e8c-4f58-8b80-d22b0f62e0c8"
   },
   "outputs": [
    {
     "name": "stdout",
     "output_type": "stream",
     "text": [
      "[[ 1  2  3  4  5]\n",
      " [ 6  7  8  9 10]]\n",
      "8\n"
     ]
    }
   ],
   "source": [
    "print(d)\n",
    "print(d[1,2]) # 2번째 행, 3번째 열의 값 --> 8을 인덱싱"
   ]
  },
  {
   "cell_type": "code",
   "execution_count": 12,
   "metadata": {
    "colab": {
     "base_uri": "https://localhost:8080/"
    },
    "id": "0_FVLwElCQqX",
    "outputId": "60f37c1d-65de-4e3d-ffb3-78dadad8ec6f",
    "scrolled": true
   },
   "outputs": [
    {
     "name": "stdout",
     "output_type": "stream",
     "text": [
      "abcd 1 () 0 <U4\n",
      "['a', 'b', 'c', 'd'] 4 (4,) 1 <U1\n",
      "('a', 'b', 'c', 'd') 4 (4,) 1 <U1\n",
      "{'a': 1, 'b': 2} 1 () 0 object\n",
      "{'b', 'd', 'c', 'a'} 1 () 0 object\n"
     ]
    }
   ],
   "source": [
    "# size: 총 원소의 개수\n",
    "# shape: 차원구조\n",
    "# ndim : 차원 수\n",
    "# dtype: 원소의 data type\n",
    "\n",
    "a = \"abcd\"\n",
    "b = list(a)\n",
    "c = tuple(a)\n",
    "d = dict((('a',1), ('b',2)))\n",
    "e = set(a)\n",
    "\n",
    "print(a, np.array(a).size, np.array(a).shape, np.array(a).ndim, np.array(a).dtype) # dtype에 유니코드 문자열인데 하나로 묶여 있으니 한번에 4바이트짜리 데이터를 갖고 있다\n",
    "print(b, np.array(b).size, np.array(b).shape, np.array(b).ndim, np.array(b).dtype) # dtype의 <는 litte endian, U는 유니코드 문자열, 1은 문자열 하나당 1바이트를 사용한다는 것\n",
    "print(c, np.array(c).size, np.array(c).shape, np.array(c).ndim, np.array(c).dtype) # 튜플을 인자로 넣어도 리스트와 동일하게 인식\n",
    "print(d, np.array(d).size, np.array(d).shape, np.array(d).ndim, np.array(d).dtype) # 딕셔너리를 하나의 원소로 하는 ndarray 생성\n",
    "print(e, np.array(e).size, np.array(e).shape, np.array(e).ndim, np.array(e).dtype) # 집합을 하나의 원소로 하는 ndarray 생성"
   ]
  },
  {
   "cell_type": "code",
   "execution_count": 13,
   "metadata": {
    "colab": {
     "base_uri": "https://localhost:8080/"
    },
    "id": "AtvNZOuFt9Yv",
    "outputId": "3b2d90e7-b1fd-4190-db2d-680d0ff7da73"
   },
   "outputs": [
    {
     "name": "stdout",
     "output_type": "stream",
     "text": [
      "[0 1 2 3 4 5 6 7 8 9]\n",
      "[1. 2. 3. 4. 5. 6. 7. 8. 9.]\n",
      "[1.  1.5 2.  2.5 3.  3.5 4.  4.5 5.  5.5 6.  6.5 7.  7.5 8.  8.5 9.  9.5]\n",
      "[1. 4. 7.]\n"
     ]
    }
   ],
   "source": [
    "a = np.arange(10)   # start는 default로 0, stop을 10으로 지정(미포함) --> 0~9까지\n",
    "b = np.arange(1,10.) # 1부터 10(미포함)까지, .을 붙여서 dtype을 float으로 설정\n",
    "c = np.arange(1,10,0.5) # step을 0.5로 설정\n",
    "d = np.arange(1,10,3,dtype='float') # 시작, step을 보아 정수로 적힐 것이지만 dtype을 float으로 하여 강제로 실수로 선언\n",
    "\n",
    "print(a)\n",
    "print(b)\n",
    "print(c)\n",
    "print(d)"
   ]
  },
  {
   "cell_type": "code",
   "execution_count": 14,
   "metadata": {
    "colab": {
     "base_uri": "https://localhost:8080/"
    },
    "id": "R_bFFtn5VIGz",
    "outputId": "871f24a9-ebf9-4080-98ff-1a1642661dbe",
    "scrolled": true
   },
   "outputs": [
    {
     "name": "stdout",
     "output_type": "stream",
     "text": [
      "[ 1.          1.18367347  1.36734694  1.55102041  1.73469388  1.91836735\n",
      "  2.10204082  2.28571429  2.46938776  2.65306122  2.83673469  3.02040816\n",
      "  3.20408163  3.3877551   3.57142857  3.75510204  3.93877551  4.12244898\n",
      "  4.30612245  4.48979592  4.67346939  4.85714286  5.04081633  5.2244898\n",
      "  5.40816327  5.59183673  5.7755102   5.95918367  6.14285714  6.32653061\n",
      "  6.51020408  6.69387755  6.87755102  7.06122449  7.24489796  7.42857143\n",
      "  7.6122449   7.79591837  7.97959184  8.16326531  8.34693878  8.53061224\n",
      "  8.71428571  8.89795918  9.08163265  9.26530612  9.44897959  9.63265306\n",
      "  9.81632653 10.        ]\n",
      "[1.         1.53539816 2.07079633 2.60619449 3.14159265]\n",
      "[1.  2.8 4.6 6.4 8.2]\n",
      "(array([ 1.  ,  3.25,  5.5 ,  7.75, 10.  ]), 2.25)\n"
     ]
    }
   ],
   "source": [
    "# linspace = linear + space --> 범위를 주고 일종의 분할을 수행하는 것, num의 개수를 원소의 개수로 맞춤\n",
    "\n",
    "a = np.linspace(1,10) # num이 없으면 50이 default값이다\n",
    "b = np.linspace(1,np.pi,num=5)                  \n",
    "c = np.linspace(1,10, num=5, endpoint = False)  # stop 표시 X\n",
    "d = np.linspace(1, 10., num=5, retstep=True)    # retstep : step 명시 여부 (step이 2.25였음이 옆에 표시되었다)\n",
    "print(a)\n",
    "print(b)\n",
    "print(c)\n",
    "print(d)"
   ]
  },
  {
   "cell_type": "code",
   "execution_count": 15,
   "metadata": {
    "colab": {
     "base_uri": "https://localhost:8080/"
    },
    "id": "d_v9I_KCVIGz",
    "outputId": "b073dd02-f888-43ca-db85-0d0088ccd15f"
   },
   "outputs": [
    {
     "name": "stdout",
     "output_type": "stream",
     "text": [
      "[2. 3. 4.]\n",
      "[  100.  1000. 10000.]\n",
      "2.0 3.0 4.0\n"
     ]
    }
   ],
   "source": [
    "print(np.linspace(2, 4, 3)) # 2에서 4(포함)까지 3분할\n",
    "print(np.logspace(2, 4, 3)) # log값이 2에서 4(포함)까지를 3분할 \n",
    "print(np.log10(100),np.log10(1000),np.log10(10000))"
   ]
  },
  {
   "cell_type": "code",
   "execution_count": 16,
   "metadata": {},
   "outputs": [
    {
     "name": "stdout",
     "output_type": "stream",
     "text": [
      "2.0\n"
     ]
    }
   ],
   "source": [
    "print(np.log2(4)) # log옆에 밑을 지정할 수 있다"
   ]
  },
  {
   "cell_type": "code",
   "execution_count": 17,
   "metadata": {
    "colab": {
     "base_uri": "https://localhost:8080/"
    },
    "id": "FOeC4blmVIGz",
    "outputId": "8cd901ad-07b8-4803-8b01-85092438b101"
   },
   "outputs": [
    {
     "name": "stdout",
     "output_type": "stream",
     "text": [
      "[[1. 1. 1. 1. 1.]\n",
      " [1. 1. 1. 1. 1.]]\n",
      "[[0 0 0 0 0]\n",
      " [0 0 0 0 0]]\n",
      "[[0.5 0.5 0.5]\n",
      " [0.5 0.5 0.5]]\n",
      "[[1. 0. 0. 0. 0.]\n",
      " [0. 1. 0. 0. 0.]\n",
      " [0. 0. 1. 0. 0.]]\n",
      "[[1. 0. 0.]\n",
      " [0. 1. 0.]\n",
      " [0. 0. 1.]]\n"
     ]
    }
   ],
   "source": [
    "a = np.ones((2,5)) #default dtype = float\n",
    "b = np.zeros((2,5),dtype='int') #default dtype = float\n",
    "c = np.full((2,3), 0.5)\n",
    "d = np.eye(3, 5)    # (m, n) 크기의 0 행렬 + (m, m) 크기의 단위 행렬\n",
    "e = np.identity(3)  # 3 by 3 단위행렬 (identity)\n",
    "\n",
    "print(a)\n",
    "print(b)\n",
    "print(c)\n",
    "print(d)\n",
    "print(e)"
   ]
  },
  {
   "cell_type": "code",
   "execution_count": 18,
   "metadata": {
    "colab": {
     "base_uri": "https://localhost:8080/"
    },
    "id": "00skozKzKq5F",
    "outputId": "3d2e1b28-e761-4f69-e43f-f81eaa1fd501"
   },
   "outputs": [
    {
     "name": "stdout",
     "output_type": "stream",
     "text": [
      "[[ 1  2  3  4]\n",
      " [ 5  6  7  8]\n",
      " [ 9 10 11 12]]\n",
      "[[ 1  5  9]\n",
      " [ 2  6 10]\n",
      " [ 3  7 11]\n",
      " [ 4  8 12]]\n",
      "[[ 1  2  3  4  5  6]\n",
      " [ 7  8  9 10 11 12]]\n",
      "[[ 1.  2.  3.  4.]\n",
      " [ 5.  6.  7.  8.]\n",
      " [ 9. 10. 11. 12.]]\n"
     ]
    }
   ],
   "source": [
    "a = np.array([[1,2,3,4],[5,6,7,8],[9,10,11,12]])\n",
    "print(a)\n",
    "b = a.T\n",
    "print(b)\n",
    "c = a.reshape(2,6)\n",
    "print(c)\n",
    "d = a.astype(float) # a의 원소들의 dtype을 float으로 변경한다\n",
    "print(d)"
   ]
  },
  {
   "cell_type": "code",
   "execution_count": 19,
   "metadata": {
    "colab": {
     "base_uri": "https://localhost:8080/"
    },
    "id": "1akdVd4FPxOg",
    "outputId": "1aefe314-db49-4be3-e31e-b53de308cc20",
    "scrolled": false
   },
   "outputs": [
    {
     "name": "stdout",
     "output_type": "stream",
     "text": [
      "[0 1 2 3 4 5 6 7 8]\n",
      "[[[0 1 2 3 4 5 6 7 8]]]\n",
      "[[[0]\n",
      "  [1]\n",
      "  [2]\n",
      "  [3]\n",
      "  [4]\n",
      "  [5]\n",
      "  [6]\n",
      "  [7]\n",
      "  [8]]]\n",
      "[[[0]]\n",
      "\n",
      " [[1]]\n",
      "\n",
      " [[2]]\n",
      "\n",
      " [[3]]\n",
      "\n",
      " [[4]]\n",
      "\n",
      " [[5]]\n",
      "\n",
      " [[6]]\n",
      "\n",
      " [[7]]\n",
      "\n",
      " [[8]]]\n"
     ]
    }
   ],
   "source": [
    "a = np.arange(9)\n",
    "a.reshape(1, -1)    # reshape의 인자로 -1은 알아서 계산하는 것을 의미\n",
    "\n",
    "b = a.reshape((1,1,9)) # 첫번째 차원에 1개, 두번째 차원에 1개, 세번째 차원에 9개 --> 총 3차원\n",
    "c = a.reshape((1,9,1)) # 첫번째 차원에 1개(통으로), 두 번째 차원에 9개, 세번째 차원에 1개\n",
    "d = a.reshape((9,1,1))\n",
    "\n",
    "print(a)\n",
    "print(b)\n",
    "print(c)\n",
    "print(d)"
   ]
  },
  {
   "cell_type": "markdown",
   "metadata": {},
   "source": [
    "## ndarray의 연산"
   ]
  },
  {
   "cell_type": "code",
   "execution_count": 20,
   "metadata": {
    "colab": {
     "base_uri": "https://localhost:8080/"
    },
    "id": "_vP2UBHnRoYT",
    "outputId": "bbdcfcbb-3732-4e01-851d-6a21efa07b96"
   },
   "outputs": [
    {
     "data": {
      "text/plain": [
       "array([[5, 5, 5, 5],\n",
       "       [5, 5, 5, 5]])"
      ]
     },
     "execution_count": 20,
     "metadata": {},
     "output_type": "execute_result"
    }
   ],
   "source": [
    "a = np.full((2,4),5)\n",
    "a"
   ]
  },
  {
   "cell_type": "code",
   "execution_count": 21,
   "metadata": {},
   "outputs": [
    {
     "name": "stdout",
     "output_type": "stream",
     "text": [
      "[[7 7 7 7]\n",
      " [7 7 7 7]]\n",
      "[[7 7 7 7]\n",
      " [7 7 7 7]]\n"
     ]
    }
   ],
   "source": [
    "# 두 연산 모두 ndarray이고 각 요소마다 해당 값을 더해준다\n",
    "print(a + [2])\n",
    "print(a + 2)"
   ]
  },
  {
   "cell_type": "code",
   "execution_count": 22,
   "metadata": {},
   "outputs": [
    {
     "name": "stdout",
     "output_type": "stream",
     "text": [
      "[[4 3 2 1]\n",
      " [4 3 2 1]]\n",
      "[[0 1 2 1]\n",
      " [0 1 2 1]]\n"
     ]
    }
   ],
   "source": [
    "# 행 별로 맞추어 연산이 적용된다\n",
    "print(a - [1,2,3,4])\n",
    "print(a % [1,2,3,4])"
   ]
  },
  {
   "cell_type": "code",
   "execution_count": 23,
   "metadata": {},
   "outputs": [
    {
     "data": {
      "text/plain": [
       "array([[10, 10, 10, 10],\n",
       "       [15, 15, 15, 15]])"
      ]
     },
     "execution_count": 23,
     "metadata": {},
     "output_type": "execute_result"
    }
   ],
   "source": [
    "a * ([2],[3]) # 첫 번째 행에 2, 두 번째 행에 3을 각각 곱해주는 꼴"
   ]
  },
  {
   "cell_type": "code",
   "execution_count": 24,
   "metadata": {},
   "outputs": [
    {
     "name": "stdout",
     "output_type": "stream",
     "text": [
      "[array([[6, 6, 6, 6],\n",
      "       [6, 6, 6, 6]])] <class 'list'>\n",
      "[[6 6 6 6]\n",
      " [6 6 6 6]] <class 'numpy.ndarray'>\n",
      "[[[0.83333333 0.83333333 0.83333333 0.83333333]\n",
      "  [0.83333333 0.83333333 0.83333333 0.83333333]]]\n",
      "[[0.83333333 0.83333333 0.83333333 0.83333333]\n",
      " [0.83333333 0.83333333 0.83333333 0.83333333]]\n"
     ]
    }
   ],
   "source": [
    "print([a + 1], type([a + 1]))  #\n",
    "print(a + 1, type(a + 1))\n",
    "print(a / [a+1])    # 각 요소에 맞추어 5를 6으로 나눈 값이 들어간다\n",
    "print(a / (a + 1))  # 각 요소에 맞추어 5를 6으로 나눈 값이 들어간다"
   ]
  },
  {
   "cell_type": "code",
   "execution_count": 25,
   "metadata": {},
   "outputs": [
    {
     "name": "stdout",
     "output_type": "stream",
     "text": [
      "[[5, 5, 5, 5], [5, 5, 5, 5], 1, 2, 3]\n",
      "<class 'list'>\n"
     ]
    }
   ],
   "source": [
    "x = a.tolist() + [1,2,3] # ndarray a를 list로 바꾸고 list연산을 하니 요소에 더하는 것이 아니라 뒤에 삽입되었다(concatenation)\n",
    "print(x)\n",
    "print(type(x))"
   ]
  },
  {
   "cell_type": "code",
   "execution_count": 26,
   "metadata": {},
   "outputs": [
    {
     "name": "stdout",
     "output_type": "stream",
     "text": [
      "[[0 1 2 3 4]\n",
      " [5 6 7 8 9]]\n",
      "[[0 1]\n",
      " [2 3]\n",
      " [4 5]\n",
      " [6 7]\n",
      " [8 9]]\n",
      "[[ 60  70]\n",
      " [160 195]]\n",
      "[[ 60  70]\n",
      " [160 195]]\n"
     ]
    }
   ],
   "source": [
    "aa = np.arange(10).reshape(2,5)\n",
    "bb = np.arange(10).reshape(5,2)\n",
    "\n",
    "print(aa)\n",
    "print(bb)\n",
    "\n",
    "# 내적을 구하는 조건: 앞 ndarray의 열과 뒤 ndarray의 행이 일치해야 한다\n",
    "print(aa @ bb) # 두 ndarray의 내적을 구한다\n",
    "print(np.dot(aa,bb)) # 동일하게 내적을 구한다"
   ]
  },
  {
   "cell_type": "markdown",
   "metadata": {},
   "source": [
    "## ndarray의 인덱싱 & 슬라이싱"
   ]
  },
  {
   "cell_type": "code",
   "execution_count": 27,
   "metadata": {
    "colab": {
     "base_uri": "https://localhost:8080/"
    },
    "id": "5gej9gnTVIG0",
    "outputId": "16be3fee-2dc3-4b44-86b5-45fc27662f13"
   },
   "outputs": [
    {
     "name": "stdout",
     "output_type": "stream",
     "text": [
      "[2 3 4 5 6]\n",
      "[2 4 6]\n",
      "[7 6 5 4 3]\n"
     ]
    }
   ],
   "source": [
    "a = np.arange(1,8) # [ 1, 2, 3, 4, 5, 6, 7]\n",
    "print(a[1:6])      # start 포함, stop 미포함\n",
    "print(a[1:6:2])    # step 2\n",
    "print(a[6:1:-1])"
   ]
  },
  {
   "cell_type": "code",
   "execution_count": 28,
   "metadata": {
    "colab": {
     "base_uri": "https://localhost:8080/"
    },
    "id": "kp8j2-s3VIG0",
    "outputId": "05c34d8e-baba-45d4-961d-81ff5e49798f"
   },
   "outputs": [
    {
     "name": "stdout",
     "output_type": "stream",
     "text": [
      "[[ 1  2  3  4]\n",
      " [ 5  6  7  8]\n",
      " [ 9 10 11 12]]\n",
      "[[2 3]\n",
      " [6 7]]\n"
     ]
    }
   ],
   "source": [
    "#변수[행 슬라이싱, 열 슬라이싱]\n",
    "a=np.arange(1,13).reshape(3,4)\n",
    "print(a)\n",
    "print(a[0:2, 1:3]) # 행에서는 0~1(2미포함), 열에서는 1~2(3미포함)"
   ]
  },
  {
   "cell_type": "markdown",
   "metadata": {},
   "source": [
    "## Numpy.Random 함수\n",
    "\n",
    "1. numpy.random.rand(shape) : [0, 1)에서 무작위 숫자 shape에 맞춰 생성\n",
    "\n",
    "2. numpy.random.randn(shape) : 표준정규분포에서 무작위 숫자 shape에 맞춰 생성\n",
    "\n",
    "3. numpy.random.randint([low], high, [size/shape]) : [low, high)에서 무작위 정수 size개, default low=0"
   ]
  },
  {
   "cell_type": "code",
   "execution_count": 29,
   "metadata": {},
   "outputs": [
    {
     "name": "stdout",
     "output_type": "stream",
     "text": [
      "[0.40373848 0.84664513 0.24885677 0.25394887 0.58357848]\n",
      "[[0.03288117 0.43211689 0.76810746]\n",
      " [0.04123688 0.78362676 0.74074968]]\n"
     ]
    }
   ],
   "source": [
    "print(np.random.rand(5))        # 0부터 1까지 5개로 만듦\n",
    "print(np.random.rand(2, 3))     # 0부터 1까지 2행 3열의 총 6개 원소의 난수"
   ]
  },
  {
   "cell_type": "code",
   "execution_count": 30,
   "metadata": {},
   "outputs": [
    {
     "name": "stdout",
     "output_type": "stream",
     "text": [
      "[-0.42118352 -0.8608132   2.07991819  0.53002122 -0.01615445]\n",
      "[[-1.32852468  1.80873431  0.83966186]\n",
      " [-0.15843662  0.38725913 -0.39706101]]\n"
     ]
    }
   ],
   "source": [
    "# rand함수와 동일하나 표준 정규분포에서 생성한다는 점만 차이가 있음\n",
    "print(np.random.randn(5))\n",
    "print(np.random.randn(2, 3))"
   ]
  },
  {
   "cell_type": "code",
   "execution_count": 31,
   "metadata": {},
   "outputs": [
    {
     "name": "stdout",
     "output_type": "stream",
     "text": [
      "[1 0 1 0 0]\n",
      "[2 3 3 3 3]\n",
      "[[2 4 3]\n",
      " [1 2 3]]\n"
     ]
    }
   ],
   "source": [
    "print(np.random.randint(2, size=5))         # [0, 2)에서 5개 난수\n",
    "print(np.random.randint(2, 4, size=5))      # [2, 4)에서 5개 난수\n",
    "print(np.random.randint(1, 5, size=(2,3)))  # [1, 5)에서 (2, 3)의 shape으로 난수\n",
    "\n",
    "#print(np.random.randint(2, 4, size=5, dtype='float64')) # dtype으로 float을 줄 수 없다(int형만 가능)"
   ]
  },
  {
   "cell_type": "markdown",
   "metadata": {},
   "source": [
    "## Random.seed의 역할\n",
    "\n",
    "seed : 시드는 난수 생성 알고리즘의 초기값을 결정, 동일한 시드로 시드를 설정하면 항상 동일한 순서로 난수가 생성 --> 무작위성을 시뮬레이션하거나 재현 가능한 결과를 얻기 위해    \n",
    "shuffle : 특정 패턴을 가지고 조합을 하는 함수 "
   ]
  },
  {
   "cell_type": "code",
   "execution_count": 32,
   "metadata": {
    "colab": {
     "base_uri": "https://localhost:8080/"
    },
    "id": "amE7ah_0VIG0",
    "outputId": "c70f707b-6d5d-442f-8dd9-8d98ff3eee00"
   },
   "outputs": [
    {
     "data": {
      "text/plain": [
       "array([0, 1, 2, 3, 4, 5, 6, 7, 8, 9])"
      ]
     },
     "execution_count": 32,
     "metadata": {},
     "output_type": "execute_result"
    }
   ],
   "source": [
    "x=np.arange(10)\n",
    "x"
   ]
  },
  {
   "cell_type": "code",
   "execution_count": 33,
   "metadata": {
    "colab": {
     "base_uri": "https://localhost:8080/"
    },
    "id": "e3ypONQdVIG0",
    "outputId": "3309ae12-26ca-4e8d-edaf-9e273df2fafa"
   },
   "outputs": [
    {
     "data": {
      "text/plain": [
       "array([2, 8, 4, 9, 1, 6, 7, 3, 0, 5])"
      ]
     },
     "execution_count": 33,
     "metadata": {},
     "output_type": "execute_result"
    }
   ],
   "source": [
    "np.random.seed(0); np.random.shuffle(x)\n",
    "x"
   ]
  },
  {
   "cell_type": "code",
   "execution_count": 34,
   "metadata": {
    "colab": {
     "base_uri": "https://localhost:8080/"
    },
    "id": "5vVCv1_rVIG0",
    "outputId": "e7356f47-f4a3-416d-b5ff-d1ec0eb0639e"
   },
   "outputs": [
    {
     "data": {
      "text/plain": [
       "array([4, 0, 1, 5, 8, 7, 3, 9, 2, 6])"
      ]
     },
     "execution_count": 34,
     "metadata": {},
     "output_type": "execute_result"
    }
   ],
   "source": [
    "np.random.seed(0); np.random.shuffle(x)\n",
    "x"
   ]
  },
  {
   "cell_type": "code",
   "execution_count": 35,
   "metadata": {
    "colab": {
     "base_uri": "https://localhost:8080/"
    },
    "id": "zcq0SQTKVIG0",
    "outputId": "7de2b278-7b4d-4b0e-b815-a977edeaeaed"
   },
   "outputs": [
    {
     "data": {
      "text/plain": [
       "array([1, 2, 8, 6, 0, 3, 9, 5, 4, 7])"
      ]
     },
     "execution_count": 35,
     "metadata": {},
     "output_type": "execute_result"
    }
   ],
   "source": [
    "np.random.seed(0); np.random.shuffle(x)\n",
    "x"
   ]
  },
  {
   "cell_type": "code",
   "execution_count": 36,
   "metadata": {
    "colab": {
     "base_uri": "https://localhost:8080/"
    },
    "id": "XiSy_KvPVIG0",
    "outputId": "f6af9d4e-15a7-45d8-d7a6-569a7e095bfe"
   },
   "outputs": [
    {
     "data": {
      "text/plain": [
       "array([8, 4, 0, 7, 2, 9, 5, 6, 1, 3])"
      ]
     },
     "execution_count": 36,
     "metadata": {},
     "output_type": "execute_result"
    }
   ],
   "source": [
    "np.random.seed(0); np.random.shuffle(x)\n",
    "x"
   ]
  },
  {
   "cell_type": "code",
   "execution_count": 37,
   "metadata": {
    "colab": {
     "base_uri": "https://localhost:8080/"
    },
    "id": "1-AwLgkJVIG0",
    "outputId": "3b95f770-1846-4bcd-9f8e-96372f9f176d"
   },
   "outputs": [
    {
     "data": {
      "text/plain": [
       "array([0, 1, 2, 3, 4, 5, 6, 7, 8, 9])"
      ]
     },
     "execution_count": 37,
     "metadata": {},
     "output_type": "execute_result"
    }
   ],
   "source": [
    "np.random.seed(0); np.random.shuffle(x)\n",
    "x"
   ]
  },
  {
   "cell_type": "code",
   "execution_count": 38,
   "metadata": {
    "colab": {
     "base_uri": "https://localhost:8080/"
    },
    "id": "ggjPByDJVIG1",
    "outputId": "6e22c899-b128-4c71-aaf5-3fd30c9b9011"
   },
   "outputs": [
    {
     "data": {
      "text/plain": [
       "array([2, 8, 4, 9, 1, 6, 7, 3, 0, 5])"
      ]
     },
     "execution_count": 38,
     "metadata": {},
     "output_type": "execute_result"
    }
   ],
   "source": [
    "np.random.seed(0); np.random.shuffle(x)\n",
    "x\n",
    "# shuffle 할 때마다 2칸씩 좌측으로 앞당겨지는 것을 확인할 수 있다.\n",
    "# 10개의 원소이기 때문에 shuffle 5번 돌면 동일한 값이 출력되는 것을 확인 가능"
   ]
  },
  {
   "cell_type": "markdown",
   "metadata": {},
   "source": [
    "seed가 같으면, random 함수로 난수를 생성할 때 동일한 난수가 생성   \n",
    "seed가 다르면, 동일한 난수가 생성되지 않는다"
   ]
  },
  {
   "cell_type": "code",
   "execution_count": 39,
   "metadata": {
    "colab": {
     "base_uri": "https://localhost:8080/"
    },
    "id": "tMyxE6NbVIG1",
    "outputId": "344f1558-6119-457f-dc55-9c2bfe6a114e",
    "scrolled": true
   },
   "outputs": [
    {
     "data": {
      "text/plain": [
       "array([0.5488135 , 0.71518937, 0.60276338, 0.54488318, 0.4236548 ])"
      ]
     },
     "execution_count": 39,
     "metadata": {},
     "output_type": "execute_result"
    }
   ],
   "source": [
    "np.random.seed(0); np.random.rand(5)"
   ]
  },
  {
   "cell_type": "code",
   "execution_count": 40,
   "metadata": {
    "colab": {
     "base_uri": "https://localhost:8080/"
    },
    "id": "XUtcSiiPVIG1",
    "outputId": "27fbc7d4-cda2-4190-fa16-f3e1f4adfdaa"
   },
   "outputs": [
    {
     "data": {
      "text/plain": [
       "array([0.5488135 , 0.71518937, 0.60276338, 0.54488318, 0.4236548 ])"
      ]
     },
     "execution_count": 40,
     "metadata": {},
     "output_type": "execute_result"
    }
   ],
   "source": [
    "np.random.seed(0); np.random.rand(5)"
   ]
  },
  {
   "cell_type": "code",
   "execution_count": 41,
   "metadata": {
    "colab": {
     "base_uri": "https://localhost:8080/"
    },
    "id": "J6-ank8iVIG1",
    "outputId": "cee6320c-6e28-4f0f-94ea-92a29efb92e6"
   },
   "outputs": [
    {
     "data": {
      "text/plain": [
       "array([0.22199317, 0.87073231, 0.20671916, 0.91861091, 0.48841119])"
      ]
     },
     "execution_count": 41,
     "metadata": {},
     "output_type": "execute_result"
    }
   ],
   "source": [
    "np.random.seed(5); np.random.rand(5)"
   ]
  },
  {
   "cell_type": "markdown",
   "metadata": {},
   "source": [
    "## Numpy 연산"
   ]
  },
  {
   "cell_type": "code",
   "execution_count": 42,
   "metadata": {
    "colab": {
     "base_uri": "https://localhost:8080/"
    },
    "id": "y5-_NhnBVIG1",
    "outputId": "e9fd8fe9-1360-4a01-fe93-db05a551faaa"
   },
   "outputs": [
    {
     "data": {
      "text/plain": [
       "array([0, 1, 2, 3, 4, 5, 6, 7, 8, 9])"
      ]
     },
     "execution_count": 42,
     "metadata": {},
     "output_type": "execute_result"
    }
   ],
   "source": [
    "x=np.arange(10)\n",
    "x"
   ]
  },
  {
   "cell_type": "code",
   "execution_count": 43,
   "metadata": {
    "colab": {
     "base_uri": "https://localhost:8080/"
    },
    "id": "sqa-B2vbVIG2",
    "outputId": "4a0abe75-d4d4-43a9-f295-091abbfca3a8"
   },
   "outputs": [
    {
     "data": {
      "text/plain": [
       "array([ 0,  1,  3,  6, 10, 15, 21, 28, 36, 45])"
      ]
     },
     "execution_count": 43,
     "metadata": {},
     "output_type": "execute_result"
    }
   ],
   "source": [
    "np.cumsum(x) # 누적합"
   ]
  },
  {
   "cell_type": "code",
   "execution_count": 44,
   "metadata": {
    "colab": {
     "base_uri": "https://localhost:8080/"
    },
    "id": "wNWMgdLjVIG2",
    "outputId": "dcbf8801-a148-4c0c-edcb-33c12c2f132a"
   },
   "outputs": [
    {
     "name": "stdout",
     "output_type": "stream",
     "text": [
      "[0 0 0 0 0 0 0 0 0 0]\n",
      "[     1      2      6     24    120    720   5040  40320 362880]\n"
     ]
    }
   ],
   "source": [
    "print(np.cumprod(x))        # 누적곱 (0이 맨 앞이라 모두 0)\n",
    "print(np.cumprod(x[1:]))    # 맨 앞의 0을 빼고 계산한 누적 곱"
   ]
  },
  {
   "cell_type": "code",
   "execution_count": 45,
   "metadata": {
    "colab": {
     "base_uri": "https://localhost:8080/"
    },
    "id": "OCX1iFz_VIG2",
    "outputId": "c87a6e34-3b10-4d52-fda5-8e1b6a54641c"
   },
   "outputs": [
    {
     "data": {
      "text/plain": [
       "array([1, 2, 3, 4, 5, 6, 7, 8, 9])"
      ]
     },
     "execution_count": 45,
     "metadata": {},
     "output_type": "execute_result"
    }
   ],
   "source": [
    "np.diff(np.cumsum(x))   # diff : 좌측 숫자와의 차이 --> 누적합에서 diff를 적용한 상황"
   ]
  },
  {
   "cell_type": "markdown",
   "metadata": {},
   "source": [
    "## Numpy 1차원 변환 "
   ]
  },
  {
   "cell_type": "code",
   "execution_count": 46,
   "metadata": {
    "colab": {
     "base_uri": "https://localhost:8080/"
    },
    "id": "_9WKGFzzVIG3",
    "outputId": "ac705d55-0b6e-4188-8bcd-314a845ab912"
   },
   "outputs": [
    {
     "name": "stdout",
     "output_type": "stream",
     "text": [
      "[[1 2]\n",
      " [3 4]] \n",
      "\n",
      "[1 2 3 4] \n",
      "\n",
      "[1 2 3 4] \n",
      "\n",
      "[1 2 3 4]\n"
     ]
    }
   ],
   "source": [
    "a1=np.arange(1,5).reshape(2,2)\n",
    "a2=a1.ravel()\n",
    "a3=a1.flatten()    # 원본(a1) 값을 바꾸지 않는다\n",
    "a4=a1.reshape(-1)  # reshape에 '-1' 하나만 넣어서 일차원으로 펴는 방식\n",
    "print(a1,'\\n')\n",
    "print(a2,'\\n')\n",
    "print(a3,'\\n')\n",
    "print(a4)"
   ]
  },
  {
   "cell_type": "code",
   "execution_count": 47,
   "metadata": {
    "colab": {
     "base_uri": "https://localhost:8080/"
    },
    "id": "KKQTG6ECVIG3",
    "outputId": "23c0ad0d-4b64-4da3-e97f-122d359d9768"
   },
   "outputs": [
    {
     "name": "stdout",
     "output_type": "stream",
     "text": [
      "[[0 2]\n",
      " [3 4]] \n",
      "\n",
      "[0 2 3 4] \n",
      "\n",
      "[1 2 3 4] \n",
      "\n",
      "[0 2 3 4]\n"
     ]
    }
   ],
   "source": [
    "a1[0][0] = 0   # mutable을 수정\n",
    "print(a1,'\\n') # 원본이 수정되어 반영됨\n",
    "print(a2,'\\n') # flatten은 원본 값의 변화에 영향을 받지 않음\n",
    "print(a3,'\\n') # 원본이 수정되어 반영됨\n",
    "print(a4)"
   ]
  },
  {
   "cell_type": "markdown",
   "metadata": {},
   "source": [
    "## Numpy 합치기"
   ]
  },
  {
   "cell_type": "code",
   "execution_count": 48,
   "metadata": {
    "colab": {
     "base_uri": "https://localhost:8080/"
    },
    "id": "ZGiiJkb8VIG3",
    "outputId": "51fd61c4-7035-4de8-b724-0caf49542b79"
   },
   "outputs": [
    {
     "name": "stdout",
     "output_type": "stream",
     "text": [
      "[[1 2]\n",
      " [3 4]] \n",
      "\n",
      "[[5 6]\n",
      " [7 8]] \n",
      "\n",
      "[[1 2]\n",
      " [3 4]\n",
      " [5 6]\n",
      " [7 8]] \n",
      "\n",
      "[[1 2 5 6]\n",
      " [3 4 7 8]]\n"
     ]
    }
   ],
   "source": [
    "a1 = np.array([[1,2],[3,4]])\n",
    "a2 = np.array([[5,6],[7,8]])\n",
    "\n",
    "print(a1, '\\n')\n",
    "print(a2, '\\n')\n",
    "\n",
    "print(np.concatenate((a1,a2), axis=0), '\\n') # axis=0으로 행 방향으로(아래 방향) concat\n",
    "print(np.concatenate((a1,a2), axis=1))       # axis=1로 열 방향(우측 방향)으로 concat"
   ]
  },
  {
   "cell_type": "markdown",
   "metadata": {},
   "source": [
    "## Numpy 반복 "
   ]
  },
  {
   "cell_type": "markdown",
   "metadata": {},
   "source": [
    "- axis=0 : row끼리의 연산 --> 오른쪽 방향으로 연산\n",
    "\n",
    "- axis=1 : column끼리의 연산 --> 아래쪽 방향으로 연산"
   ]
  },
  {
   "cell_type": "markdown",
   "metadata": {},
   "source": [
    "- repeat : 해당 원소를 바로 반복한다\n",
    "\n",
    "- tile : 해당 부분을 마치 타일처럼 블록 단위로 반복한다"
   ]
  },
  {
   "cell_type": "code",
   "execution_count": 55,
   "metadata": {
    "colab": {
     "base_uri": "https://localhost:8080/"
    },
    "id": "XdotCT4-VIG3",
    "outputId": "a0676cd2-65c9-47ae-bd0c-c949dc62f854"
   },
   "outputs": [
    {
     "name": "stdout",
     "output_type": "stream",
     "text": [
      "[[1 2]\n",
      " [3 4]] \n",
      "\n",
      "[1 1 2 2 3 3 4 4] \n",
      "\n",
      "[[1 2]\n",
      " [1 2]\n",
      " [3 4]\n",
      " [3 4]] \n",
      "\n",
      "[[1 1 2 2]\n",
      " [3 3 4 4]] \n",
      "\n"
     ]
    }
   ],
   "source": [
    "a1=np.array([[1,2],[3,4]])\n",
    "print(a1, '\\n')\n",
    "print(a1.repeat(2), '\\n') # axis 옵션이 없으면 1차원으로 분리해서 반복\n",
    "print(a1.repeat(2, axis=0), '\\n') # axis=0으로 행별로 반복\n",
    "print(a1.repeat(2, axis=1), '\\n') # axis=1로 열별로 반복"
   ]
  },
  {
   "cell_type": "code",
   "execution_count": 63,
   "metadata": {
    "colab": {
     "base_uri": "https://localhost:8080/"
    },
    "id": "fSqtvuPYVIG3",
    "outputId": "c5502d9a-2b4e-427a-95ff-65c1a0fc0000"
   },
   "outputs": [
    {
     "name": "stdout",
     "output_type": "stream",
     "text": [
      "[[1 2 1 2]\n",
      " [3 4 3 4]] \n",
      "\n",
      "[[1 2 1 2 1 2]\n",
      " [3 4 3 4 3 4]\n",
      " [1 2 1 2 1 2]\n",
      " [3 4 3 4 3 4]]\n"
     ]
    }
   ],
   "source": [
    "# repeat은 각 원소를 바로 반복한다면, tile은 해당 부분을 타일처럼 한꺼번에 반복한다\n",
    "\n",
    "a1=np.array([[1,2],[3,4]])\n",
    "\n",
    "print(np.tile(a1,2),'\\n')\n",
    "print(np.tile(a1,(2,3)))"
   ]
  },
  {
   "cell_type": "code",
   "execution_count": 61,
   "metadata": {
    "colab": {
     "base_uri": "https://localhost:8080/"
    },
    "id": "EfLKX_BzVIG4",
    "outputId": "37d3d484-9c88-43eb-ad31-857c6ec07c34"
   },
   "outputs": [
    {
     "name": "stdout",
     "output_type": "stream",
     "text": [
      "[1 2 3 4 5 6 7 8]\n"
     ]
    }
   ],
   "source": [
    "a1=np.array([[1,2],[3,4]])\n",
    "a2=np.array([[5,6],[7,8]])\n",
    "print(np.append(a1, a2))    # 모든 원소를 합쳐서 1차원으로 출력"
   ]
  },
  {
   "cell_type": "markdown",
   "metadata": {},
   "source": [
    "## Numpy 정렬 "
   ]
  },
  {
   "cell_type": "code",
   "execution_count": 66,
   "metadata": {
    "id": "W9RY1dTfVIG4"
   },
   "outputs": [
    {
     "name": "stdout",
     "output_type": "stream",
     "text": [
      "[[2 1 6]\n",
      " [0 7 4]\n",
      " [5 3 2]] \n",
      "\n",
      "\n",
      "[[1 2 6]\n",
      " [0 4 7]\n",
      " [2 3 5]] \n",
      "\n",
      "[[6 2 1]\n",
      " [7 4 0]\n",
      " [5 3 2]] \n",
      "\n",
      "[[0 1 2]\n",
      " [2 3 4]\n",
      " [5 7 6]] \n",
      "\n",
      "[[5 7 6]\n",
      " [2 3 4]\n",
      " [0 1 2]]\n"
     ]
    }
   ],
   "source": [
    "a=np.array([[2,1,6],[0,7,4],[5,3,2]])\n",
    "print(a, '\\n\\n')\n",
    "print(np.sort(a, axis=1), '\\n')             # 열 단위로 오름차순 정렬\n",
    "print(np.sort(a, axis=1)[::,::-1], '\\n')    # 열 단위로 내림차순 정렬 --> 오름차순 정렬 다음에 [::-1]로 역순 만들기\n",
    "print(np.sort(a, axis=0), '\\n')             # 행 끼리 비교해서 오름차순\n",
    "print(np.sort(a, axis=0)[::-1])             # 행 끼리 비교해서 내림차순"
   ]
  },
  {
   "cell_type": "code",
   "execution_count": 67,
   "metadata": {
    "colab": {
     "base_uri": "https://localhost:8080/"
    },
    "id": "ViZrnJWeVIG4",
    "outputId": "cee8bea3-030e-4a47-d35a-d00581a1bfaf"
   },
   "outputs": [
    {
     "data": {
      "text/plain": [
       "array([[1, 0, 2],\n",
       "       [0, 2, 1],\n",
       "       [2, 1, 0]], dtype=int64)"
      ]
     },
     "execution_count": 67,
     "metadata": {},
     "output_type": "execute_result"
    }
   ],
   "source": [
    "# np.sort(a)로 정렬된 출력값의 index\n",
    "np.argsort(a)"
   ]
  },
  {
   "cell_type": "code",
   "execution_count": 68,
   "metadata": {
    "colab": {
     "base_uri": "https://localhost:8080/"
    },
    "id": "LhjptTP9VIG4",
    "outputId": "f6a5a93d-d3f6-474f-8386-99611f80e6e9"
   },
   "outputs": [
    {
     "data": {
      "text/plain": [
       "array([[1, 0, 2],\n",
       "       [0, 2, 1],\n",
       "       [2, 1, 0]], dtype=int64)"
      ]
     },
     "execution_count": 68,
     "metadata": {},
     "output_type": "execute_result"
    }
   ],
   "source": [
    "a.argsort()"
   ]
  },
  {
   "cell_type": "code",
   "execution_count": 75,
   "metadata": {
    "colab": {
     "base_uri": "https://localhost:8080/"
    },
    "id": "lXUyXaMYVIG4",
    "outputId": "263c7aa0-2f6e-4528-93ff-e5c743b2785e"
   },
   "outputs": [
    {
     "name": "stdout",
     "output_type": "stream",
     "text": [
      "0 0\n",
      "7 7\n",
      "3 3\n",
      "4 4\n"
     ]
    }
   ],
   "source": [
    "print(np.amin(a), a.min())    # 최솟값(amin은 min과 거의 유사)\n",
    "print(np.amax(a), a.max())    # 최댓값(amax는 max와 거의 유사)\n",
    "print(np.argmin(a), a.argmin())    # 최솟값 index\n",
    "print(np.argmax(a), a.argmax())    # 최댓값 index"
   ]
  },
  {
   "cell_type": "code",
   "execution_count": 76,
   "metadata": {
    "colab": {
     "base_uri": "https://localhost:8080/"
    },
    "id": "xuYAYsabVIG4",
    "outputId": "ba23cbc1-4c9c-4248-85cb-98308ec608d4"
   },
   "outputs": [
    {
     "data": {
      "text/plain": [
       "array([1., 2.])"
      ]
     },
     "execution_count": 76,
     "metadata": {},
     "output_type": "execute_result"
    }
   ],
   "source": [
    "# 연립방정식 해 구하기\n",
    "\n",
    "# x+2y=5 2x+3y=8\n",
    "A = np.linalg.inv(np.array([[1,2],[2,3]]))    # np.linalg.inv: 역행렬\n",
    "B = np.array([5,8])\n",
    "C = np.dot(A,B); C    # np.dot : 행렬의 곱(내적)"
   ]
  },
  {
   "cell_type": "code",
   "execution_count": 77,
   "metadata": {
    "colab": {
     "base_uri": "https://localhost:8080/"
    },
    "id": "3hse2Y0mAbel",
    "outputId": "eac1ab04-8017-455c-beeb-23a28299de77"
   },
   "outputs": [
    {
     "name": "stdout",
     "output_type": "stream",
     "text": [
      "[[0.61174386 0.76590786]\n",
      " [0.51841799 0.2968005 ]\n",
      " [0.18772123 0.08074127]]\n"
     ]
    }
   ],
   "source": [
    "a = np.random.rand(3,2)\n",
    "print(a)"
   ]
  },
  {
   "cell_type": "code",
   "execution_count": 78,
   "metadata": {
    "colab": {
     "base_uri": "https://localhost:8080/"
    },
    "id": "kPabD5wGVIG4",
    "outputId": "b35fde26-827f-4596-c0c5-3e84a0484404"
   },
   "outputs": [
    {
     "data": {
      "text/plain": [
       "array([[0.6117, 0.7659],\n",
       "       [0.5184, 0.2968],\n",
       "       [0.1877, 0.0807]])"
      ]
     },
     "execution_count": 78,
     "metadata": {},
     "output_type": "execute_result"
    }
   ],
   "source": [
    "np.savetxt('out.txt', a, fmt='%.4f', delimiter='\\t') # fmt: 출력 형태 / delimiter: 데이터를 구분하는 것을 설정(\\t는 tab키)\n",
    "np.loadtxt('out.txt', dtype='float', delimiter='\\t')"
   ]
  },
  {
   "cell_type": "markdown",
   "metadata": {},
   "source": [
    "## Numpy의 where \n",
    "\n",
    "- np.where(condition, true일때, false일때) \n",
    "\n",
    "- 1차원: 직관적으로 조건에 맞는 '인덱스'를 반환\n",
    "\n",
    "- 2차원: [행의 index], [열의 index]를 반환 "
   ]
  },
  {
   "cell_type": "code",
   "execution_count": 94,
   "metadata": {},
   "outputs": [
    {
     "data": {
      "text/plain": [
       "array([ 5,  6,  7,  8,  9, 10, 11, 12, 13, 14])"
      ]
     },
     "execution_count": 94,
     "metadata": {},
     "output_type": "execute_result"
    }
   ],
   "source": [
    "a = np.arange(5, 15) # start ~ stop(불포함), step=1\n",
    "a"
   ]
  },
  {
   "cell_type": "code",
   "execution_count": 97,
   "metadata": {
    "id": "XqDdsiqqVIG5"
   },
   "outputs": [
    {
     "data": {
      "text/plain": [
       "(array([6, 7, 8, 9], dtype=int64),)"
      ]
     },
     "execution_count": 97,
     "metadata": {},
     "output_type": "execute_result"
    }
   ],
   "source": [
    "np.where(a > 10) # 10보다 큰 것들의 index 값들을 반환"
   ]
  },
  {
   "cell_type": "code",
   "execution_count": 98,
   "metadata": {},
   "outputs": [
    {
     "data": {
      "text/plain": [
       "(array([1, 4, 7], dtype=int64),)"
      ]
     },
     "execution_count": 98,
     "metadata": {},
     "output_type": "execute_result"
    }
   ],
   "source": [
    "np.where(a % 3 == 0) # 1번(6), 4번(9), 7번(12)을 반환"
   ]
  },
  {
   "cell_type": "code",
   "execution_count": 90,
   "metadata": {},
   "outputs": [
    {
     "data": {
      "text/plain": [
       "(array([0, 0, 1], dtype=int64), array([0, 2, 0], dtype=int64))"
      ]
     },
     "execution_count": 90,
     "metadata": {},
     "output_type": "execute_result"
    }
   ],
   "source": [
    "a = np.array([[15, 8, 12], [11, 7, 3]])\n",
    "np.where(a > 10) # (array([0, 0, 1]), array([0, 2, 0]))\n",
    "\n",
    "# (0, 0)인 15,  (0, 2)인 12, (1, 0)인 11을 의미하는 인덱스"
   ]
  },
  {
   "cell_type": "code",
   "execution_count": 99,
   "metadata": {},
   "outputs": [
    {
     "data": {
      "text/plain": [
       "array([[15, 10, 12],\n",
       "       [11, 10, 10]])"
      ]
     },
     "execution_count": 99,
     "metadata": {},
     "output_type": "execute_result"
    }
   ],
   "source": [
    "a = np.array([[15, 8, 12], [11, 7, 3]])\n",
    "np.where(a > 10, a, 10)  # a>10일때는 a 그대로, a>10이 아닐때는 10으로"
   ]
  },
  {
   "cell_type": "code",
   "execution_count": 100,
   "metadata": {},
   "outputs": [
    {
     "data": {
      "text/plain": [
       "array([[30, -1, 24],\n",
       "       [22, -1, -3]])"
      ]
     },
     "execution_count": 100,
     "metadata": {},
     "output_type": "execute_result"
    }
   ],
   "source": [
    "b = np.array([[0, -1, 2], [-2, -1, -3]])\n",
    "np.where(a > 10, a * 2, b) # a가 10보다 크면 a의 해당 값*2, 아니면 b의 값을 넣는다"
   ]
  },
  {
   "cell_type": "markdown",
   "metadata": {},
   "source": [
    "## Bincount : 양의 정수 객체의 정수값에 대한 빈도수 계산 "
   ]
  },
  {
   "cell_type": "code",
   "execution_count": 103,
   "metadata": {},
   "outputs": [
    {
     "data": {
      "text/plain": [
       "array([6, 8, 1, 7, 1, 6, 3, 9, 7, 9, 1, 6, 3, 1, 8])"
      ]
     },
     "execution_count": 103,
     "metadata": {},
     "output_type": "execute_result"
    }
   ],
   "source": [
    "x=np.random.randint(1, 10, 15) # 1부터 9(10불포함) 사이의 난수 15개\n",
    "x"
   ]
  },
  {
   "cell_type": "code",
   "execution_count": 104,
   "metadata": {},
   "outputs": [
    {
     "data": {
      "text/plain": [
       "array([0, 4, 0, 2, 0, 0, 3, 2, 2, 2], dtype=int64)"
      ]
     },
     "execution_count": 104,
     "metadata": {},
     "output_type": "execute_result"
    }
   ],
   "source": [
    "# 0부터 최대값 범위의 정수값에 대한 빈도수를 반환\n",
    "np.bincount(x) # 0은 0번, 1은 4번, 2는 0번, 3은 2번 등등등"
   ]
  }
 ],
 "metadata": {
  "colab": {
   "provenance": []
  },
  "kernelspec": {
   "display_name": "Python 3 (ipykernel)",
   "language": "python",
   "name": "python3"
  },
  "language_info": {
   "codemirror_mode": {
    "name": "ipython",
    "version": 3
   },
   "file_extension": ".py",
   "mimetype": "text/x-python",
   "name": "python",
   "nbconvert_exporter": "python",
   "pygments_lexer": "ipython3",
   "version": "3.10.11"
  }
 },
 "nbformat": 4,
 "nbformat_minor": 1
}
