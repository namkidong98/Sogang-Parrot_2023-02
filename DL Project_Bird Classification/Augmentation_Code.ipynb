{
  "cells": [
    {
      "cell_type": "code",
      "execution_count": 1,
      "metadata": {
        "id": "ihPGEBAV-7yW"
      },
      "outputs": [],
      "source": [
        "import torch\n",
        "import torchvision\n",
        "from torchvision import datasets, models, transforms\n",
        "import torch.nn as nn\n",
        "import torch.nn.functional as F\n",
        "import torch.optim as optim\n",
        "from torch.utils.data import DataLoader, random_split\n",
        "import time\n",
        "import os\n",
        "from tqdm import tqdm"
      ]
    },
    {
      "cell_type": "code",
      "execution_count": 2,
      "metadata": {
        "colab": {
          "base_uri": "https://localhost:8080/"
        },
        "id": "e-RWBIZS-3ew",
        "outputId": "e58ad654-446b-4cc5-ab97-69b7ad33a323"
      },
      "outputs": [
        {
          "name": "stdout",
          "output_type": "stream",
          "text": [
            "Mounted at /content/drive\n"
          ]
        }
      ],
      "source": [
        "# mount google drive\n",
        "from google.colab import drive\n",
        "drive.mount('/content/drive')"
      ]
    },
    {
      "cell_type": "markdown",
      "metadata": {},
      "source": [
        "## Original Dataset Load"
      ]
    },
    {
      "cell_type": "code",
      "execution_count": 3,
      "metadata": {
        "id": "RnvDlEru-56V"
      },
      "outputs": [],
      "source": [
        "# 데이터셋이 위치한 경로\n",
        "data_dir = '/content/drive/MyDrive/Parrot DL Project'"
      ]
    },
    {
      "cell_type": "code",
      "execution_count": 4,
      "metadata": {
        "id": "enQvrzaC_zgD"
      },
      "outputs": [],
      "source": [
        "# 이미지 변환\n",
        "data_transforms = {\n",
        "    'train': transforms.Compose([ # 원본 이미지 그대로\n",
        "        transforms.Resize(256),\n",
        "        transforms.CenterCrop(224),\n",
        "        transforms.ToTensor(),\n",
        "        transforms.Normalize((0.485, 0.456, 0.406), (0.229, 0.224, 0.225)),\n",
        "    ]),\n",
        "    'val': transforms.Compose([\n",
        "        transforms.Resize(256),\n",
        "        transforms.CenterCrop(224),\n",
        "        transforms.ToTensor(),\n",
        "        transforms.Normalize([0.485, 0.456, 0.406], [0.229, 0.224, 0.225])\n",
        "    ]),\n",
        "}"
      ]
    },
    {
      "cell_type": "code",
      "execution_count": 5,
      "metadata": {
        "id": "jte4lQ94_suX"
      },
      "outputs": [],
      "source": [
        "# 이미지 데이터셋 불러오기\n",
        "full_dataset = datasets.ImageFolder(os.path.join(data_dir, 'train'),\n",
        "                                          data_transforms['train'])\n",
        "# 클래스명\n",
        "class_names = full_dataset.classes"
      ]
    },
    {
      "cell_type": "code",
      "execution_count": 6,
      "metadata": {
        "colab": {
          "base_uri": "https://localhost:8080/"
        },
        "id": "aFquoSFO_tGL",
        "outputId": "f405c2b3-5f65-4342-a4e6-1fd5f0c72513"
      },
      "outputs": [
        {
          "name": "stdout",
          "output_type": "stream",
          "text": [
            "Total Data: 42388\n"
          ]
        }
      ],
      "source": [
        "print(\"Total Data:\",len(full_dataset))"
      ]
    },
    {
      "cell_type": "markdown",
      "metadata": {},
      "source": [
        "## Augmented Dataset Load"
      ]
    },
    {
      "cell_type": "code",
      "execution_count": 14,
      "metadata": {
        "id": "xyHtXIwZHsH-"
      },
      "outputs": [],
      "source": [
        "# 이미 augmented_dataset이 있다는 가정하에 실행시키는 부분\n",
        "\n",
        "# augmented_dataset = datasets.ImageFolder(os.path.join(data_dir, 'augmented'),\n",
        "#                                           data_transforms['train'])\n",
        "# class_names_aug = augmented_dataset.classes"
      ]
    },
    {
      "cell_type": "code",
      "execution_count": 16,
      "metadata": {
        "colab": {
          "base_uri": "https://localhost:8080/"
        },
        "id": "tg9SyUQBHse7",
        "outputId": "3a12f687-7404-4515-e3f8-a3179824c18a"
      },
      "outputs": [
        {
          "name": "stdout",
          "output_type": "stream",
          "text": [
            "Total Data: 54\n"
          ]
        }
      ],
      "source": [
        "# print(\"Total Data:\",len(augmented_dataset))"
      ]
    },
    {
      "cell_type": "code",
      "execution_count": 20,
      "metadata": {
        "id": "RaSLjDIH_lgY"
      },
      "outputs": [],
      "source": [
        "import numpy as np\n",
        "import os\n",
        "import cv2\n",
        "from PIL import Image\n",
        "import albumentations as A\n",
        "import matplotlib.pyplot as plt\n",
        "\n",
        "def delete_augmented(data_dir, num_class, class_names):\n",
        "  prefixes = ['augmented_']\n",
        "  for i in range(num_class):\n",
        "    # file_path = data_dir + '/train/' + class_names[i] # 기존 파일에 생성한 경우\n",
        "    file_path = data_dir + '/augmented/' + class_names[i]\n",
        "    file_names = os.listdir(file_path) # 각 클래스별 폴더 내의 파일들의 이름\n",
        "\n",
        "    print(\"current_directory:\", class_names[i]) # 진행 상황을 확인\n",
        "    for file_name in file_names:\n",
        "      for prefix in prefixes:\n",
        "        if file_name.startswith(prefix): # 해당 prefix로 시작하는 파일이면\n",
        "          file_path_to_delete = os.path.join(file_path, file_name)\n",
        "          os.remove(file_path_to_delete) # 삭제하기\n",
        "\n",
        "albumentations_transform = A.Compose([\n",
        "    #이미지 조정은 전체 dataset을 구성할 때 적용하므로 생략\n",
        "    #A.Resize(256, 256),\n",
        "    #A.RandomCrop(224, 224),\n",
        "\n",
        "    # 1. shift/flip - # 90도 이내에서 회전 및 shift, scale 진행\n",
        "    A.ShiftScaleRotate(shift_limit=0.2, scale_limit=(0.3, 0.7), rotate_limit=90, p=1, border_mode=cv2.BORDER_REPLICATE),\n",
        "\n",
        "    # 2. noise\n",
        "    A.OneOf([A.Blur(p=1, blur_limit=(3, 7)), # 흐리게 만들기\n",
        "             A.CoarseDropout(p=1, max_holes=8, max_height=8, max_width=8, min_holes=8, min_height=8, min_width=8), # 검은색 직사각형 삽입\n",
        "             A.Downscale(p=1, scale_min=0.25, scale_max=0.25, interpolation=0), # 화질 낮추기\n",
        "             A.GaussNoise(p=1, mean=0, var_limit=(10.0, 50.0)), # 가우시안 노이즈 추가\n",
        "    ], p=1),\n",
        "])\n",
        "\n",
        "def augmentation(data_dir, num_class, class_names, new_per_origin):\n",
        "  # new_per_origin: 각 원본 이미지당 생성할 이미지의 개수\n",
        "  total = 0\n",
        "  for i in range(num_class):\n",
        "    file_path = data_dir + '/train/' + class_names[i] # 각 클래스별 폴더 경로 지정\n",
        "    file_names = os.listdir(file_path) # 각 클래스별 폴더 내의 파일들의 이름\n",
        "    total_origin_image_num = len(file_names)\n",
        "\n",
        "    new_file_path = data_dir + '/augmented/' + class_names[i]\n",
        "    if not os.path.exists(new_file_path):\n",
        "      os.makedirs(new_file_path)\n",
        "\n",
        "    print(\"current_directory:\", class_names[i]) # 진행 상황을 확인\n",
        "\n",
        "    augment_cnt = 0\n",
        "    images_to_use = total_origin_image_num  # 해당 폴더에서 Augmentation에 사용할 이미지 개수\n",
        "    for idx in range(images_to_use):\n",
        "      file_name = file_names[idx]\n",
        "      origin_image_path = file_path + '/' + file_name # 해당 파일의 경로를 설정\n",
        "      origin_image = plt.imread(origin_image_path) # 이미지로 불러오기\n",
        "      for _ in range(new_per_origin):\n",
        "        # albumentations_transform으로 변환된 이미지 생성\n",
        "        transformed = albumentations_transform(image=origin_image)\n",
        "        transformed_image = transformed['image']\n",
        "        transformed_image = Image.fromarray(np.uint8(transformed_image))\n",
        "\n",
        "        # transformed_image.save(file_path + '/augmented_' + str(augment_cnt) + '.jpg') # 기존 파일에 저장한 경우\n",
        "        transformed_image.save(new_file_path + '/augmented_' + str(augment_cnt) + '.jpg') # 새로 분리해서 저장\n",
        "        augment_cnt += 1\n",
        "    total += augment_cnt\n",
        "  print(\"Augmented Data:\", total)"
      ]
    },
    {
      "cell_type": "code",
      "execution_count": 18,
      "metadata": {
        "colab": {
          "base_uri": "https://localhost:8080/"
        },
        "id": "UEpmQ-9HFYB8",
        "outputId": "4305bc67-85f0-401b-8449-05d038a9703e"
      },
      "outputs": [
        {
          "name": "stdout",
          "output_type": "stream",
          "text": [
            "current_directory: 001.Black_footed_Albatross\n"
          ]
        }
      ],
      "source": [
        "delete_augmented('/content/drive/MyDrive/Parrot DL Project', 200, class_names)"
      ]
    },
    {
      "cell_type": "code",
      "execution_count": 21,
      "metadata": {
        "colab": {
          "base_uri": "https://localhost:8080/"
        },
        "id": "Ib7CVb9sH0IS",
        "outputId": "08b70389-389d-46a5-d55a-82bf2b27fddf"
      },
      "outputs": [
        {
          "name": "stdout",
          "output_type": "stream",
          "text": [
            "current_directory: 001.Black_footed_Albatross\n",
            "current_directory: 002.Laysan_Albatross\n",
            "current_directory: 003.Sooty_Albatross\n",
            "current_directory: 004.Groove_billed_Ani\n",
            "current_directory: 005.Crested_Auklet\n",
            "current_directory: 006.Least_Auklet\n",
            "current_directory: 007.Parakeet_Auklet\n",
            "current_directory: 008.Rhinoceros_Auklet\n",
            "current_directory: 009.Brewer_Blackbird\n",
            "current_directory: 010.Red_winged_Blackbird\n",
            "current_directory: 011.Rusty_Blackbird\n",
            "current_directory: 012.Yellow_headed_Blackbird\n",
            "current_directory: 013.Bobolink\n",
            "current_directory: 014.Indigo_Bunting\n",
            "current_directory: 015.Lazuli_Bunting\n",
            "current_directory: 016.Painted_Bunting\n",
            "current_directory: 017.Cardinal\n",
            "current_directory: 018.Spotted_Catbird\n",
            "current_directory: 019.Gray_Catbird\n",
            "current_directory: 020.Yellow_breasted_Chat\n",
            "current_directory: 021.Eastern_Towhee\n",
            "current_directory: 022.Chuck_will_Widow\n",
            "current_directory: 023.Brandt_Cormorant\n",
            "current_directory: 024.Red_faced_Cormorant\n",
            "current_directory: 025.Pelagic_Cormorant\n",
            "current_directory: 026.Bronzed_Cowbird\n",
            "current_directory: 027.Shiny_Cowbird\n",
            "current_directory: 028.Brown_Creeper\n",
            "current_directory: 029.American_Crow\n",
            "current_directory: 030.Fish_Crow\n",
            "current_directory: 031.Black_billed_Cuckoo\n",
            "current_directory: 032.Mangrove_Cuckoo\n",
            "current_directory: 033.Yellow_billed_Cuckoo\n",
            "current_directory: 034.Gray_crowned_Rosy_Finch\n",
            "current_directory: 035.Purple_Finch\n",
            "current_directory: 036.Northern_Flicker\n",
            "current_directory: 037.Acadian_Flycatcher\n",
            "current_directory: 038.Great_Crested_Flycatcher\n",
            "current_directory: 039.Least_Flycatcher\n",
            "current_directory: 040.Olive_sided_Flycatcher\n",
            "current_directory: 041.Scissor_tailed_Flycatcher\n",
            "current_directory: 042.Vermilion_Flycatcher\n",
            "current_directory: 043.Yellow_bellied_Flycatcher\n",
            "current_directory: 044.Frigatebird\n",
            "current_directory: 045.Northern_Fulmar\n",
            "current_directory: 046.Gadwall\n",
            "current_directory: 047.American_Goldfinch\n",
            "current_directory: 048.European_Goldfinch\n",
            "current_directory: 049.Boat_tailed_Grackle\n",
            "current_directory: 050.Eared_Grebe\n",
            "current_directory: 051.Horned_Grebe\n",
            "current_directory: 052.Pied_billed_Grebe\n",
            "current_directory: 053.Western_Grebe\n",
            "current_directory: 054.Blue_Grosbeak\n",
            "current_directory: 055.Evening_Grosbeak\n",
            "current_directory: 056.Pine_Grosbeak\n",
            "current_directory: 057.Rose_breasted_Grosbeak\n",
            "current_directory: 058.Pigeon_Guillemot\n",
            "current_directory: 059.California_Gull\n",
            "current_directory: 060.Glaucous_winged_Gull\n",
            "current_directory: 061.Heermann_Gull\n",
            "current_directory: 062.Herring_Gull\n",
            "current_directory: 063.Ivory_Gull\n",
            "current_directory: 064.Ring_billed_Gull\n",
            "current_directory: 065.Slaty_backed_Gull\n",
            "current_directory: 066.Western_Gull\n",
            "current_directory: 067.Anna_Hummingbird\n",
            "current_directory: 068.Ruby_throated_Hummingbird\n",
            "current_directory: 069.Rufous_Hummingbird\n",
            "current_directory: 070.Green_Violetear\n",
            "current_directory: 071.Long_tailed_Jaeger\n",
            "current_directory: 072.Pomarine_Jaeger\n",
            "current_directory: 073.Blue_Jay\n",
            "current_directory: 074.Florida_Jay\n",
            "current_directory: 075.Green_Jay\n",
            "current_directory: 076.Dark_eyed_Junco\n",
            "current_directory: 077.Tropical_Kingbird\n",
            "current_directory: 078.Gray_Kingbird\n",
            "current_directory: 079.Belted_Kingfisher\n",
            "current_directory: 080.Green_Kingfisher\n",
            "current_directory: 081.Pied_Kingfisher\n",
            "current_directory: 082.Ringed_Kingfisher\n",
            "current_directory: 083.White_breasted_Kingfisher\n",
            "current_directory: 084.Red_legged_Kittiwake\n",
            "current_directory: 085.Horned_Lark\n",
            "current_directory: 086.Pacific_Loon\n",
            "current_directory: 087.Mallard\n",
            "current_directory: 088.Western_Meadowlark\n",
            "current_directory: 089.Hooded_Merganser\n",
            "current_directory: 090.Red_breasted_Merganser\n",
            "current_directory: 091.Mockingbird\n",
            "current_directory: 092.Nighthawk\n",
            "current_directory: 093.Clark_Nutcracker\n",
            "current_directory: 094.White_breasted_Nuthatch\n",
            "current_directory: 095.Baltimore_Oriole\n",
            "current_directory: 096.Hooded_Oriole\n",
            "current_directory: 097.Orchard_Oriole\n",
            "current_directory: 098.Scott_Oriole\n",
            "current_directory: 099.Ovenbird\n",
            "current_directory: 100.Brown_Pelican\n",
            "current_directory: 101.White_Pelican\n",
            "current_directory: 102.Western_Wood_Pewee\n",
            "current_directory: 103.Sayornis\n",
            "current_directory: 104.American_Pipit\n",
            "current_directory: 105.Whip_poor_Will\n",
            "current_directory: 106.Horned_Puffin\n",
            "current_directory: 107.Common_Raven\n",
            "current_directory: 108.White_necked_Raven\n",
            "current_directory: 109.American_Redstart\n",
            "current_directory: 110.Geococcyx\n",
            "current_directory: 111.Loggerhead_Shrike\n",
            "current_directory: 112.Great_Grey_Shrike\n",
            "current_directory: 113.Baird_Sparrow\n",
            "current_directory: 114.Black_throated_Sparrow\n",
            "current_directory: 115.Brewer_Sparrow\n",
            "current_directory: 116.Chipping_Sparrow\n",
            "current_directory: 117.Clay_colored_Sparrow\n",
            "current_directory: 118.House_Sparrow\n",
            "current_directory: 119.Field_Sparrow\n",
            "current_directory: 120.Fox_Sparrow\n",
            "current_directory: 121.Grasshopper_Sparrow\n",
            "current_directory: 122.Harris_Sparrow\n",
            "current_directory: 123.Henslow_Sparrow\n",
            "current_directory: 124.Le_Conte_Sparrow\n",
            "current_directory: 125.Lincoln_Sparrow\n",
            "current_directory: 126.Nelson_Sharp_tailed_Sparrow\n",
            "current_directory: 127.Savannah_Sparrow\n",
            "current_directory: 128.Seaside_Sparrow\n",
            "current_directory: 129.Song_Sparrow\n",
            "current_directory: 130.Tree_Sparrow\n",
            "current_directory: 131.Vesper_Sparrow\n",
            "current_directory: 132.White_crowned_Sparrow\n",
            "current_directory: 133.White_throated_Sparrow\n",
            "current_directory: 134.Cape_Glossy_Starling\n",
            "current_directory: 135.Bank_Swallow\n",
            "current_directory: 136.Barn_Swallow\n",
            "current_directory: 137.Cliff_Swallow\n",
            "current_directory: 138.Tree_Swallow\n",
            "current_directory: 139.Scarlet_Tanager\n",
            "current_directory: 140.Summer_Tanager\n",
            "current_directory: 141.Artic_Tern\n",
            "current_directory: 142.Black_Tern\n",
            "current_directory: 143.Caspian_Tern\n",
            "current_directory: 144.Common_Tern\n",
            "current_directory: 145.Elegant_Tern\n",
            "current_directory: 146.Forsters_Tern\n",
            "current_directory: 147.Least_Tern\n",
            "current_directory: 148.Green_tailed_Towhee\n",
            "current_directory: 149.Brown_Thrasher\n",
            "current_directory: 150.Sage_Thrasher\n",
            "current_directory: 151.Black_capped_Vireo\n",
            "current_directory: 152.Blue_headed_Vireo\n",
            "current_directory: 153.Philadelphia_Vireo\n",
            "current_directory: 154.Red_eyed_Vireo\n",
            "current_directory: 155.Warbling_Vireo\n",
            "current_directory: 156.White_eyed_Vireo\n",
            "current_directory: 157.Yellow_throated_Vireo\n",
            "current_directory: 158.Bay_breasted_Warbler\n",
            "current_directory: 159.Black_and_white_Warbler\n",
            "current_directory: 160.Black_throated_Blue_Warbler\n",
            "current_directory: 161.Blue_winged_Warbler\n",
            "current_directory: 162.Canada_Warbler\n",
            "current_directory: 163.Cape_May_Warbler\n",
            "current_directory: 164.Cerulean_Warbler\n",
            "current_directory: 165.Chestnut_sided_Warbler\n",
            "current_directory: 166.Golden_winged_Warbler\n",
            "current_directory: 167.Hooded_Warbler\n",
            "current_directory: 168.Kentucky_Warbler\n",
            "current_directory: 169.Magnolia_Warbler\n",
            "current_directory: 170.Mourning_Warbler\n",
            "current_directory: 171.Myrtle_Warbler\n",
            "current_directory: 172.Nashville_Warbler\n",
            "current_directory: 173.Orange_crowned_Warbler\n",
            "current_directory: 174.Palm_Warbler\n",
            "current_directory: 175.Pine_Warbler\n",
            "current_directory: 176.Prairie_Warbler\n",
            "current_directory: 177.Prothonotary_Warbler\n",
            "current_directory: 178.Swainson_Warbler\n",
            "current_directory: 179.Tennessee_Warbler\n",
            "current_directory: 180.Wilson_Warbler\n",
            "current_directory: 181.Worm_eating_Warbler\n",
            "current_directory: 182.Yellow_Warbler\n",
            "current_directory: 183.Northern_Waterthrush\n",
            "current_directory: 184.Louisiana_Waterthrush\n",
            "current_directory: 185.Bohemian_Waxwing\n",
            "current_directory: 186.Cedar_Waxwing\n",
            "current_directory: 187.American_Three_toed_Woodpecker\n",
            "current_directory: 188.Pileated_Woodpecker\n",
            "current_directory: 189.Red_bellied_Woodpecker\n",
            "current_directory: 190.Red_cockaded_Woodpecker\n",
            "current_directory: 191.Red_headed_Woodpecker\n",
            "current_directory: 192.Downy_Woodpecker\n",
            "current_directory: 193.Bewick_Wren\n",
            "current_directory: 194.Cactus_Wren\n",
            "current_directory: 195.Carolina_Wren\n",
            "current_directory: 196.House_Wren\n",
            "current_directory: 197.Marsh_Wren\n",
            "current_directory: 198.Rock_Wren\n",
            "current_directory: 199.Winter_Wren\n",
            "current_directory: 200.Common_Yellowthroat\n",
            "Augmented Data: 10597\n"
          ]
        }
      ],
      "source": [
        "augmentation('/content/drive/MyDrive/Parrot DL Project', 200, class_names, 1) # 200개의 클래스에 대해 각 이미지당 1개씩 augmented image 생성"
      ]
    },
    {
      "cell_type": "code",
      "execution_count": 22,
      "metadata": {
        "colab": {
          "base_uri": "https://localhost:8080/"
        },
        "id": "PsyxhDcxBTRA",
        "outputId": "905e2a33-8975-4a72-a3f5-379990964d6f"
      },
      "outputs": [
        {
          "name": "stdout",
          "output_type": "stream",
          "text": [
            "10597 10597\n"
          ]
        }
      ],
      "source": [
        "# original dataset\n",
        "full_dataset = datasets.ImageFolder(os.path.join(data_dir, 'train'),\n",
        "                                          data_transforms['train'])\n",
        "class_names = full_dataset.classes\n",
        "\n",
        "# augmented dataset\n",
        "augmented_dataset = datasets.ImageFolder(os.path.join(data_dir, 'augmented'),\n",
        "                                          data_transforms['train'])\n",
        "class_names_aug = augmented_dataset.classes\n",
        "\n",
        "print(len(full_dataset), len(augmented_dataset)) # 2배로 증가한 것을 확인할 수 있다"
      ]
    }
  ],
  "metadata": {
    "colab": {
      "provenance": []
    },
    "kernelspec": {
      "display_name": "Python 3",
      "name": "python3"
    },
    "language_info": {
      "name": "python"
    }
  },
  "nbformat": 4,
  "nbformat_minor": 0
}
